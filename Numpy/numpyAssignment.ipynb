{
  "nbformat": 4,
  "nbformat_minor": 0,
  "metadata": {
    "colab": {
      "name": "numpyAssignment.ipynb",
      "provenance": []
    },
    "kernelspec": {
      "name": "python3",
      "display_name": "Python 3"
    }
  },
  "cells": [
    {
      "cell_type": "code",
      "metadata": {
        "id": "wSBy5Si7tFJr"
      },
      "source": [
        "import numpy as np"
      ],
      "execution_count": 1,
      "outputs": []
    },
    {
      "cell_type": "markdown",
      "metadata": {
        "id": "IOngzFvptLo-"
      },
      "source": [
        "Question -2"
      ]
    },
    {
      "cell_type": "code",
      "metadata": {
        "id": "ygxHhiA5tLLK"
      },
      "source": [
        "def strider(x,k):\r\n",
        "  result=[]\r\n",
        "  \r\n",
        "  for i in range(0,len(x)-k+1):\r\n",
        "    y=x[i:i+k]\r\n",
        "    result.append(np.sum(y)/k)\r\n",
        "  return result"
      ],
      "execution_count": 2,
      "outputs": []
    },
    {
      "cell_type": "code",
      "metadata": {
        "colab": {
          "base_uri": "https://localhost:8080/"
        },
        "id": "IBAIXbVBtIEF",
        "outputId": "3d52e8db-d2b1-4ab0-edb8-d80d686d200b"
      },
      "source": [
        "x=[3, 5, 7, 2, 8, 10, 11, 65, 72, 81, 99, 100, 150]\r\n",
        "result=strider(x,3)\r\n",
        "print(result)"
      ],
      "execution_count": 3,
      "outputs": [
        {
          "output_type": "stream",
          "text": [
            "[5.0, 4.666666666666667, 5.666666666666667, 6.666666666666667, 9.666666666666666, 28.666666666666668, 49.333333333333336, 72.66666666666667, 84.0, 93.33333333333333, 116.33333333333333]\n"
          ],
          "name": "stdout"
        }
      ]
    },
    {
      "cell_type": "code",
      "metadata": {
        "colab": {
          "base_uri": "https://localhost:8080/"
        },
        "id": "z3zyB0I3tQvc",
        "outputId": "baba0073-50e6-4696-9309-5b46188e6c33"
      },
      "source": [
        "x=np.array([1,2,3,4,5]) \r\n",
        "N=5 \r\n",
        "matrix = np.column_stack([x**(N-i-1) for i in range(N)]) \r\n",
        "print(matrix)"
      ],
      "execution_count": 4,
      "outputs": [
        {
          "output_type": "stream",
          "text": [
            "[[  1   1   1   1   1]\n",
            " [ 16   8   4   2   1]\n",
            " [ 81  27   9   3   1]\n",
            " [256  64  16   4   1]\n",
            " [625 125  25   5   1]]\n"
          ],
          "name": "stdout"
        }
      ]
    },
    {
      "cell_type": "markdown",
      "metadata": {
        "id": "NHX67R2f6Um-"
      },
      "source": [
        "Question-1"
      ]
    },
    {
      "cell_type": "code",
      "metadata": {
        "id": "Wa_8lph56TxU"
      },
      "source": [
        ""
      ],
      "execution_count": null,
      "outputs": []
    },
    {
      "cell_type": "code",
      "metadata": {
        "id": "oDlg6WFRv9AD"
      },
      "source": [
        "inputArray=[1,2,3,4,5]\r\n",
        "ipvector=np.array(inputArray)\r\n",
        "n=5\r\n",
        "\r\n",
        "def vanderMonde(input,n,increasing):\r\n",
        "  if increasing:\r\n",
        "    x=np.array([x**i for x in inputArray for i in range(n)]).reshape(len(inputArray),n)\r\n",
        "\r\n",
        "  else:\r\n",
        "    \r\n",
        "    x=np.array([x**(N-1-i) for x in inputArray for i in range(n)]).reshape(len(inputArray),n)\r\n",
        "\r\n",
        "  return x\r\n",
        "\r\n",
        "\r\n",
        "\r\n",
        "\r\n",
        "\r\n"
      ],
      "execution_count": 24,
      "outputs": []
    },
    {
      "cell_type": "code",
      "metadata": {
        "id": "zevWYcWyyHVE"
      },
      "source": [
        "inputArray=[1,2,3,4,5]\r\n",
        "ipvector=np.array(inputArray)\r\n",
        "\r\n"
      ],
      "execution_count": 25,
      "outputs": []
    },
    {
      "cell_type": "code",
      "metadata": {
        "colab": {
          "base_uri": "https://localhost:8080/"
        },
        "id": "7cdvfCOA3H8P",
        "outputId": "3b132370-8208-425b-d814-76ea218dd87d"
      },
      "source": [
        "vanderMonde(ipvector,6,True)\r\n"
      ],
      "execution_count": 26,
      "outputs": [
        {
          "output_type": "execute_result",
          "data": {
            "text/plain": [
              "array([[   1,    1,    1,    1,    1,    1],\n",
              "       [   1,    2,    4,    8,   16,   32],\n",
              "       [   1,    3,    9,   27,   81,  243],\n",
              "       [   1,    4,   16,   64,  256, 1024],\n",
              "       [   1,    5,   25,  125,  625, 3125]])"
            ]
          },
          "metadata": {
            "tags": []
          },
          "execution_count": 26
        }
      ]
    },
    {
      "cell_type": "code",
      "metadata": {
        "colab": {
          "base_uri": "https://localhost:8080/"
        },
        "id": "ato4htsf5xxc",
        "outputId": "4a1faeaa-0d4d-4765-c034-4f5360fcff32"
      },
      "source": [
        "vanderMonde(ipvector,5,False)"
      ],
      "execution_count": 27,
      "outputs": [
        {
          "output_type": "execute_result",
          "data": {
            "text/plain": [
              "array([[  1,   1,   1,   1,   1],\n",
              "       [ 16,   8,   4,   2,   1],\n",
              "       [ 81,  27,   9,   3,   1],\n",
              "       [256,  64,  16,   4,   1],\n",
              "       [625, 125,  25,   5,   1]])"
            ]
          },
          "metadata": {
            "tags": []
          },
          "execution_count": 27
        }
      ]
    },
    {
      "cell_type": "code",
      "metadata": {
        "id": "phizu9gq51zI"
      },
      "source": [
        ""
      ],
      "execution_count": null,
      "outputs": []
    }
  ]
}