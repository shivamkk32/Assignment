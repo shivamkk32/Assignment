{
  "nbformat": 4,
  "nbformat_minor": 0,
  "metadata": {
    "colab": {
      "name": "Stats4.ipynb",
      "provenance": []
    },
    "kernelspec": {
      "name": "python3",
      "display_name": "Python 3"
    }
  },
  "cells": [
    {
      "cell_type": "code",
      "metadata": {
        "id": "FkyjJfkH9zIK"
      },
      "source": [
        "import pandas as pd\r\n",
        "import numpy as np\r\n",
        "import scipy.special\r\n",
        "import matplotlib.pyplot as plt\r\n",
        "import math\r\n",
        "import scipy.stats as st"
      ],
      "execution_count": 1,
      "outputs": []
    },
    {
      "cell_type": "markdown",
      "metadata": {
        "id": "iqNwbOpQ-W7t"
      },
      "source": [
        "Problem 1-"
      ]
    },
    {
      "cell_type": "markdown",
      "metadata": {
        "id": "e46aH4A6AkIz"
      },
      "source": [
        "H0- features are independent"
      ]
    },
    {
      "cell_type": "code",
      "metadata": {
        "colab": {
          "base_uri": "https://localhost:8080/"
        },
        "id": "xl-VR3hh-Qm9",
        "outputId": "2c52556f-26d4-4b36-faa6-f362165ef8bd"
      },
      "source": [
        "alpha=0.05\r\n",
        "chi2,p,dof,expected=st.chi2_contingency([[60,54,46,41],[40,44,53,57]])\r\n",
        "\r\n",
        "chi2,p"
      ],
      "execution_count": 2,
      "outputs": [
        {
          "output_type": "execute_result",
          "data": {
            "text/plain": [
              "(8.006066246262538, 0.045886500891747214)"
            ]
          },
          "metadata": {
            "tags": []
          },
          "execution_count": 2
        }
      ]
    },
    {
      "cell_type": "markdown",
      "metadata": {
        "id": "p3spAPomApfq"
      },
      "source": [
        "Reject null hypothesis"
      ]
    },
    {
      "cell_type": "markdown",
      "metadata": {
        "id": "AS7uuZhHA2eJ"
      },
      "source": [
        "Problem Statement 2:\r\n"
      ]
    },
    {
      "cell_type": "code",
      "metadata": {
        "id": "A3VZHkmwASXV"
      },
      "source": [
        "\r\n",
        "alpha=0.05\r\n",
        "group1=[51, 45, 33, 45, 67]\r\n",
        "group2=[23, 43, 23, 43, 45]\r\n",
        "group3=[56, 76, 74, 87, 56]"
      ],
      "execution_count": 3,
      "outputs": []
    },
    {
      "cell_type": "code",
      "metadata": {
        "colab": {
          "base_uri": "https://localhost:8080/"
        },
        "id": "-KpQV_SiBG3k",
        "outputId": "63493d11-48c6-48b5-9a91-ec77e105303e"
      },
      "source": [
        "f,p=st.f_oneway(group1,group2,group3)\r\n",
        "print(\"F-value is :\",f)\r\n",
        "print(\"p-value is :\",p)"
      ],
      "execution_count": 4,
      "outputs": [
        {
          "output_type": "stream",
          "text": [
            "F-value is : 9.747205503009463\n",
            "p-value is : 0.0030597541434430556\n"
          ],
          "name": "stdout"
        }
      ]
    },
    {
      "cell_type": "markdown",
      "metadata": {
        "id": "jO-PyAJhBVDb"
      },
      "source": [
        "Problem 3-"
      ]
    },
    {
      "cell_type": "code",
      "metadata": {
        "colab": {
          "base_uri": "https://localhost:8080/"
        },
        "id": "bzR1BIUsBOFR",
        "outputId": "205378b7-f5ac-4c36-949f-3c808f402e36"
      },
      "source": [
        "s1=[10,20,30,40,50]\r\n",
        "s2=[5,10,15,20,25]\r\n",
        "f,p=st.f_oneway(s1,s2)\r\n",
        "print(\"F-value is :\",f)\r\n",
        "print(\"p-value is :\",p)"
      ],
      "execution_count": 5,
      "outputs": [
        {
          "output_type": "stream",
          "text": [
            "F-value is : 3.6\n",
            "p-value is : 0.0943497728424377\n"
          ],
          "name": "stdout"
        }
      ]
    },
    {
      "cell_type": "code",
      "metadata": {
        "id": "2wTLPO41Bb84"
      },
      "source": [
        ""
      ],
      "execution_count": null,
      "outputs": []
    }
  ]
}