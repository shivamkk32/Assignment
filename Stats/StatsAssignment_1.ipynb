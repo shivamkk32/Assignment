{
  "nbformat": 4,
  "nbformat_minor": 0,
  "metadata": {
    "colab": {
      "name": "StatsAssignment-1.ipynb",
      "provenance": []
    },
    "kernelspec": {
      "name": "python3",
      "display_name": "Python 3"
    }
  },
  "cells": [
    {
      "cell_type": "code",
      "metadata": {
        "id": "HUbHK2WjGroG"
      },
      "source": [
        "import pandas as pd\r\n",
        "import numpy as np\r\n",
        "import scipy.special\r\n",
        "import matplotlib.pyplot as plt\r\n",
        "import math\r\n"
      ],
      "execution_count": 1,
      "outputs": []
    },
    {
      "cell_type": "markdown",
      "metadata": {
        "id": "gZwCVlhFHVjC"
      },
      "source": [
        ""
      ]
    },
    {
      "cell_type": "markdown",
      "metadata": {
        "id": "f8VZfF8HHYgF"
      },
      "source": [
        "Problem Statement 1: "
      ]
    },
    {
      "cell_type": "code",
      "metadata": {
        "colab": {
          "base_uri": "https://localhost:8080/"
        },
        "id": "cuPK0zcVG2Fx",
        "outputId": "4933b6b2-55a5-4142-a59f-e43271f178a5"
      },
      "source": [
        "input=\"6 7 5 7 7 8 7 6 9 7 4 10 6 8 8 9 5 6 4 8\"\r\n",
        "inputList=input.split(' ')\r\n",
        "inputList=list(map(int,inputList))\r\n",
        "inputList"
      ],
      "execution_count": 126,
      "outputs": [
        {
          "output_type": "execute_result",
          "data": {
            "text/plain": [
              "[6, 7, 5, 7, 7, 8, 7, 6, 9, 7, 4, 10, 6, 8, 8, 9, 5, 6, 4, 8]"
            ]
          },
          "metadata": {
            "tags": []
          },
          "execution_count": 126
        }
      ]
    },
    {
      "cell_type": "code",
      "metadata": {
        "colab": {
          "base_uri": "https://localhost:8080/"
        },
        "id": "PwMISVWPHQRN",
        "outputId": "68a3326e-e1cb-4f7c-aebe-a8cc71178146"
      },
      "source": [
        "inputList_Mean=sum(inputList)/len(inputList)\r\n",
        "inputList_Mean"
      ],
      "execution_count": 127,
      "outputs": [
        {
          "output_type": "execute_result",
          "data": {
            "text/plain": [
              "6.85"
            ]
          },
          "metadata": {
            "tags": []
          },
          "execution_count": 127
        }
      ]
    },
    {
      "cell_type": "markdown",
      "metadata": {
        "id": "yHNmvDhuIs_J"
      },
      "source": [
        "Problem Statement 2:"
      ]
    },
    {
      "cell_type": "code",
      "metadata": {
        "id": "QDwxQ0oOHwvs"
      },
      "source": [
        "data=\"28, 122, 217, 130, 120, 86, 80, 90, 140, 120, 70, 40, 145, 113, 90, 68, 174, 194, 170,100, 75, 104, 97, 75,123, 100, 75, 104, 97, 75, 123, 100, 89, 120, 109\""
      ],
      "execution_count": 128,
      "outputs": []
    },
    {
      "cell_type": "code",
      "metadata": {
        "id": "ZuycMrePI5cn"
      },
      "source": [
        "dataList=data.split(',')\r\n",
        "dataList=list(map(int,dataList))\r\n"
      ],
      "execution_count": 129,
      "outputs": []
    },
    {
      "cell_type": "code",
      "metadata": {
        "colab": {
          "base_uri": "https://localhost:8080/"
        },
        "id": "F02KJbdxJCXg",
        "outputId": "7c2feff0-7bdb-4aa1-b8e7-bdb4c940b0b7"
      },
      "source": [
        "dataList_Mean=sum(dataList)/len(dataList)\r\n",
        "dataList_Mean"
      ],
      "execution_count": 130,
      "outputs": [
        {
          "output_type": "execute_result",
          "data": {
            "text/plain": [
              "107.51428571428572"
            ]
          },
          "metadata": {
            "tags": []
          },
          "execution_count": 130
        }
      ]
    },
    {
      "cell_type": "markdown",
      "metadata": {
        "id": "oKr-dvmdqEzC"
      },
      "source": [
        "Problem Statement 3:"
      ]
    },
    {
      "cell_type": "code",
      "metadata": {
        "colab": {
          "base_uri": "https://localhost:8080/"
        },
        "id": "-ZQ6j8b_nvGm",
        "outputId": "e8a1696c-c06c-4fb9-f34a-7227405a8f65"
      },
      "source": [
        "x = np.asarray([0,1,2,3,4,5])\r\n",
        "y = np.array([0.09,0.15,0.40,0.25,0.10,0.01])\r\n",
        "x.reshape((1,-1))\r\n",
        "y.reshape((-1,1))\r\n",
        "mean=np.dot(x,y)\r\n",
        "variance_of_x=(x-mean)**2\r\n",
        "variance = np.dot(variance_of_x.reshape(1,-1),y)\r\n",
        "print(f\"Mean no. of workouts: {mean}\")\r\n",
        "print(f\"Variance of workouts: {variance}\")\r\n"
      ],
      "execution_count": 131,
      "outputs": [
        {
          "output_type": "stream",
          "text": [
            "Mean no. of workouts: 2.15\n",
            "Variance of workouts: [1.2275]\n"
          ],
          "name": "stdout"
        }
      ]
    },
    {
      "cell_type": "markdown",
      "metadata": {
        "id": "GFZnF0EM1Fg3"
      },
      "source": [
        "Problem Statement 4:\r\n",
        "Let the continuous random variable D denote the diameter of the hole drilled in an\r\n",
        "aluminum sheet. The target diameter to be achieved is 12.5mm. Random\r\n",
        "disturbances in the process often result in inaccuracy.\r\n",
        "Historical data shows that the distribution of D can be modelled by the PDF (𝑑) =\r\n",
        "20𝑒−20(𝑑−12.5), 𝑑 ≥ 12.5. If a part with diameter > 12.6 mm needs to be scrapped,\r\n",
        "what is the proportion of those parts? What is the CDF when the diameter is of 11\r\n",
        "mm? What is your conclusion regarding the proportion of scraps?"
      ]
    },
    {
      "cell_type": "code",
      "metadata": {
        "id": "7F9Sy9ccogDj"
      },
      "source": [
        ""
      ],
      "execution_count": 131,
      "outputs": []
    },
    {
      "cell_type": "markdown",
      "metadata": {
        "id": "mHE7OMbe2OJM"
      },
      "source": [
        "Problem Statement 5:\r\n",
        "A company manufactures LED bulbs with a faulty rate of 30%. If I randomly select 6\r\n",
        "chosen LEDs, what is the probability of having 2 faulty LEDs in my sample?\r\n",
        "Calculate the average value of this process. Also evaluate the standard deviation\r\n",
        "associated with it."
      ]
    },
    {
      "cell_type": "markdown",
      "metadata": {
        "id": "GXOQvF1i2cAT"
      },
      "source": [
        "Solution- This is a binomial distribution problem , where there are only 2 possible outcomes.\r\n",
        "\r\n",
        "P(F)=0.3\r\n",
        "P(G)=0.7\r\n",
        "\r\n",
        "Probability Distribution function is as below"
      ]
    },
    {
      "cell_type": "code",
      "metadata": {
        "id": "uYuhDhwvsZH9"
      },
      "source": [
        "X=list(np.arange(1,7,1))\r\n",
        "p=0.3\r\n",
        "q=0.7"
      ],
      "execution_count": 132,
      "outputs": []
    },
    {
      "cell_type": "code",
      "metadata": {
        "id": "jeHl700usdWd"
      },
      "source": [
        "def bernolliDistribution(input,p,q):\r\n",
        "  pdf1=[]\r\n",
        "  for i in input:\r\n",
        "    pdf1.append((scipy.special.comb(len(input),i)*(p**i)*(q**(len(input)-i))))\r\n",
        "  return pdf1\r\n",
        "    "
      ],
      "execution_count": 133,
      "outputs": []
    },
    {
      "cell_type": "code",
      "metadata": {
        "id": "rv8evozC3p_m"
      },
      "source": [
        "resultPDF=bernolliDistribution(X,p,q)\r\n"
      ],
      "execution_count": 134,
      "outputs": []
    },
    {
      "cell_type": "code",
      "metadata": {
        "id": "BcMknE2s57cM"
      },
      "source": [
        "pdf_df=pd.DataFrame({'FaultyCount': X,'PDF_value':resultPDF},)"
      ],
      "execution_count": 135,
      "outputs": []
    },
    {
      "cell_type": "code",
      "metadata": {
        "colab": {
          "base_uri": "https://localhost:8080/",
          "height": 225
        },
        "id": "QNnzvQdO7mgH",
        "outputId": "125cbe8d-0d07-4f46-ea5f-c2afb6b1f9c5"
      },
      "source": [
        "pdf_df"
      ],
      "execution_count": 136,
      "outputs": [
        {
          "output_type": "execute_result",
          "data": {
            "text/html": [
              "<div>\n",
              "<style scoped>\n",
              "    .dataframe tbody tr th:only-of-type {\n",
              "        vertical-align: middle;\n",
              "    }\n",
              "\n",
              "    .dataframe tbody tr th {\n",
              "        vertical-align: top;\n",
              "    }\n",
              "\n",
              "    .dataframe thead th {\n",
              "        text-align: right;\n",
              "    }\n",
              "</style>\n",
              "<table border=\"1\" class=\"dataframe\">\n",
              "  <thead>\n",
              "    <tr style=\"text-align: right;\">\n",
              "      <th></th>\n",
              "      <th>FaultyCount</th>\n",
              "      <th>PDF_value</th>\n",
              "    </tr>\n",
              "  </thead>\n",
              "  <tbody>\n",
              "    <tr>\n",
              "      <th>0</th>\n",
              "      <td>1</td>\n",
              "      <td>0.302526</td>\n",
              "    </tr>\n",
              "    <tr>\n",
              "      <th>1</th>\n",
              "      <td>2</td>\n",
              "      <td>0.324135</td>\n",
              "    </tr>\n",
              "    <tr>\n",
              "      <th>2</th>\n",
              "      <td>3</td>\n",
              "      <td>0.185220</td>\n",
              "    </tr>\n",
              "    <tr>\n",
              "      <th>3</th>\n",
              "      <td>4</td>\n",
              "      <td>0.059535</td>\n",
              "    </tr>\n",
              "    <tr>\n",
              "      <th>4</th>\n",
              "      <td>5</td>\n",
              "      <td>0.010206</td>\n",
              "    </tr>\n",
              "    <tr>\n",
              "      <th>5</th>\n",
              "      <td>6</td>\n",
              "      <td>0.000729</td>\n",
              "    </tr>\n",
              "  </tbody>\n",
              "</table>\n",
              "</div>"
            ],
            "text/plain": [
              "   FaultyCount  PDF_value\n",
              "0            1   0.302526\n",
              "1            2   0.324135\n",
              "2            3   0.185220\n",
              "3            4   0.059535\n",
              "4            5   0.010206\n",
              "5            6   0.000729"
            ]
          },
          "metadata": {
            "tags": []
          },
          "execution_count": 136
        }
      ]
    },
    {
      "cell_type": "code",
      "metadata": {
        "colab": {
          "base_uri": "https://localhost:8080/"
        },
        "id": "qLUhfSsD8iWa",
        "outputId": "42476517-9a1f-44f5-b2d9-7a29f3db0d83"
      },
      "source": [
        "print('Prob. to get 2 faulty bulb out of 6 is {}'.format(pdf_df.at[1,'PDF_value']))"
      ],
      "execution_count": 137,
      "outputs": [
        {
          "output_type": "stream",
          "text": [
            "Prob. to get 2 faulty bulb out of 6 is 0.3241349999999999\n"
          ],
          "name": "stdout"
        }
      ]
    },
    {
      "cell_type": "code",
      "metadata": {
        "colab": {
          "base_uri": "https://localhost:8080/"
        },
        "id": "vyHb5gTf-MpJ",
        "outputId": "c700b0fc-9962-49df-899b-8a2ff516ddc7"
      },
      "source": [
        "avgResult=pdf_df.FaultyCount*pdf_df.PDF_value\r\n",
        "mean=sum(avgResult)\r\n",
        "print('Average Faulty Bulb is {}'.format(mean))\r\n",
        "\r\n",
        "pdf_df['variance']=df['PDF_value']*(df['FaultyCount']-mean)**2\r\n",
        "std=np.sqrt(pdf_df['variance'].sum())\r\n",
        "print('Standard Deviation of Faulty Bulb Distribution is {}'.format(std))\r\n",
        "\r\n"
      ],
      "execution_count": 138,
      "outputs": [
        {
          "output_type": "stream",
          "text": [
            "Average Faulty Bulb is 1.7999999999999996\n",
            "Standard Deviation of Faulty Bulb Distribution is 0.9374525267980239\n"
          ],
          "name": "stdout"
        }
      ]
    },
    {
      "cell_type": "markdown",
      "metadata": {
        "id": "tKJqD520BXW_"
      },
      "source": [
        "Problem 6:\r\n",
        "Gaurav and Barakha are both preparing for entrance exams. Gaurav attempts to\r\n",
        "solve 8 questions per day with a correction rate of 75%, while Barakha averages\r\n",
        "around 12 questions per day with a correction rate of 45%. What is the probability\r\n",
        "that each of them will solve 5 questions correctly? What happens in cases of 4 and 6\r\n",
        "correct solutions? What do you infer from it? What are the two main governing\r\n",
        "factors affecting their ability to solve questions correctly? Give a pictorial\r\n",
        "representation of the same to validate your answer."
      ]
    },
    {
      "cell_type": "markdown",
      "metadata": {
        "id": "qIc8crVtB5cN"
      },
      "source": [
        "Solution : P(Correct|Gaurav)=0.75\r\n",
        "P(InCorrect|Gaurav)=0.25\r\n",
        "P(Correct|Barakha)=0.45\r\n",
        "P(InCorrect|Barakha)=0.55"
      ]
    },
    {
      "cell_type": "code",
      "metadata": {
        "id": "VCgvB1Wo_v0F"
      },
      "source": [
        "p1,q1=0.75,0.25\r\n",
        "p2,q2=0.45,0.55\r\n",
        "questionsCount_Gaurav=range(1,9)\r\n",
        "questionsCount_Barakha=range(1,13)\r\n",
        "pdf_Gaurav=bernolliDistribution(questionsCount_Gaurav,p1,q1)\r\n",
        "pdf_Barakha=bernolliDistribution(questionsCount_Barakha,p2,q2)"
      ],
      "execution_count": 139,
      "outputs": []
    },
    {
      "cell_type": "code",
      "metadata": {
        "id": "K4qo6Bi0XUwv"
      },
      "source": [
        "distribution_df_Gaurav=pd.DataFrame({'correct_Question':questionsCount_Gaurav,'pdf_Gaurav':pdf_Gaurav})\r\n",
        "distribution_df_Barakha=pd.DataFrame({'correct_Question':questionsCount_Barakha,'pdf_Barakha':pdf_Barakha})"
      ],
      "execution_count": 140,
      "outputs": []
    },
    {
      "cell_type": "code",
      "metadata": {
        "colab": {
          "base_uri": "https://localhost:8080/",
          "height": 284
        },
        "id": "YkcmsNozYMd5",
        "outputId": "0e77fb78-9659-4cba-d868-f516e8d05f3e"
      },
      "source": [
        "distribution_df_Gaurav"
      ],
      "execution_count": 141,
      "outputs": [
        {
          "output_type": "execute_result",
          "data": {
            "text/html": [
              "<div>\n",
              "<style scoped>\n",
              "    .dataframe tbody tr th:only-of-type {\n",
              "        vertical-align: middle;\n",
              "    }\n",
              "\n",
              "    .dataframe tbody tr th {\n",
              "        vertical-align: top;\n",
              "    }\n",
              "\n",
              "    .dataframe thead th {\n",
              "        text-align: right;\n",
              "    }\n",
              "</style>\n",
              "<table border=\"1\" class=\"dataframe\">\n",
              "  <thead>\n",
              "    <tr style=\"text-align: right;\">\n",
              "      <th></th>\n",
              "      <th>correct_Question</th>\n",
              "      <th>pdf_Gaurav</th>\n",
              "    </tr>\n",
              "  </thead>\n",
              "  <tbody>\n",
              "    <tr>\n",
              "      <th>0</th>\n",
              "      <td>1</td>\n",
              "      <td>0.000366</td>\n",
              "    </tr>\n",
              "    <tr>\n",
              "      <th>1</th>\n",
              "      <td>2</td>\n",
              "      <td>0.003845</td>\n",
              "    </tr>\n",
              "    <tr>\n",
              "      <th>2</th>\n",
              "      <td>3</td>\n",
              "      <td>0.023071</td>\n",
              "    </tr>\n",
              "    <tr>\n",
              "      <th>3</th>\n",
              "      <td>4</td>\n",
              "      <td>0.086517</td>\n",
              "    </tr>\n",
              "    <tr>\n",
              "      <th>4</th>\n",
              "      <td>5</td>\n",
              "      <td>0.207642</td>\n",
              "    </tr>\n",
              "    <tr>\n",
              "      <th>5</th>\n",
              "      <td>6</td>\n",
              "      <td>0.311462</td>\n",
              "    </tr>\n",
              "    <tr>\n",
              "      <th>6</th>\n",
              "      <td>7</td>\n",
              "      <td>0.266968</td>\n",
              "    </tr>\n",
              "    <tr>\n",
              "      <th>7</th>\n",
              "      <td>8</td>\n",
              "      <td>0.100113</td>\n",
              "    </tr>\n",
              "  </tbody>\n",
              "</table>\n",
              "</div>"
            ],
            "text/plain": [
              "   correct_Question  pdf_Gaurav\n",
              "0                 1    0.000366\n",
              "1                 2    0.003845\n",
              "2                 3    0.023071\n",
              "3                 4    0.086517\n",
              "4                 5    0.207642\n",
              "5                 6    0.311462\n",
              "6                 7    0.266968\n",
              "7                 8    0.100113"
            ]
          },
          "metadata": {
            "tags": []
          },
          "execution_count": 141
        }
      ]
    },
    {
      "cell_type": "code",
      "metadata": {
        "colab": {
          "base_uri": "https://localhost:8080/",
          "height": 402
        },
        "id": "gP4VEbXpYNtx",
        "outputId": "a6beb1a1-8275-4925-cfc2-eecfc2d902b5"
      },
      "source": [
        "distribution_df_Barakha"
      ],
      "execution_count": 142,
      "outputs": [
        {
          "output_type": "execute_result",
          "data": {
            "text/html": [
              "<div>\n",
              "<style scoped>\n",
              "    .dataframe tbody tr th:only-of-type {\n",
              "        vertical-align: middle;\n",
              "    }\n",
              "\n",
              "    .dataframe tbody tr th {\n",
              "        vertical-align: top;\n",
              "    }\n",
              "\n",
              "    .dataframe thead th {\n",
              "        text-align: right;\n",
              "    }\n",
              "</style>\n",
              "<table border=\"1\" class=\"dataframe\">\n",
              "  <thead>\n",
              "    <tr style=\"text-align: right;\">\n",
              "      <th></th>\n",
              "      <th>correct_Question</th>\n",
              "      <th>pdf_Barakha</th>\n",
              "    </tr>\n",
              "  </thead>\n",
              "  <tbody>\n",
              "    <tr>\n",
              "      <th>0</th>\n",
              "      <td>1</td>\n",
              "      <td>0.007523</td>\n",
              "    </tr>\n",
              "    <tr>\n",
              "      <th>1</th>\n",
              "      <td>2</td>\n",
              "      <td>0.033853</td>\n",
              "    </tr>\n",
              "    <tr>\n",
              "      <th>2</th>\n",
              "      <td>3</td>\n",
              "      <td>0.092326</td>\n",
              "    </tr>\n",
              "    <tr>\n",
              "      <th>3</th>\n",
              "      <td>4</td>\n",
              "      <td>0.169964</td>\n",
              "    </tr>\n",
              "    <tr>\n",
              "      <th>4</th>\n",
              "      <td>5</td>\n",
              "      <td>0.222498</td>\n",
              "    </tr>\n",
              "    <tr>\n",
              "      <th>5</th>\n",
              "      <td>6</td>\n",
              "      <td>0.212385</td>\n",
              "    </tr>\n",
              "    <tr>\n",
              "      <th>6</th>\n",
              "      <td>7</td>\n",
              "      <td>0.148945</td>\n",
              "    </tr>\n",
              "    <tr>\n",
              "      <th>7</th>\n",
              "      <td>8</td>\n",
              "      <td>0.076165</td>\n",
              "    </tr>\n",
              "    <tr>\n",
              "      <th>8</th>\n",
              "      <td>9</td>\n",
              "      <td>0.027696</td>\n",
              "    </tr>\n",
              "    <tr>\n",
              "      <th>9</th>\n",
              "      <td>10</td>\n",
              "      <td>0.006798</td>\n",
              "    </tr>\n",
              "    <tr>\n",
              "      <th>10</th>\n",
              "      <td>11</td>\n",
              "      <td>0.001011</td>\n",
              "    </tr>\n",
              "    <tr>\n",
              "      <th>11</th>\n",
              "      <td>12</td>\n",
              "      <td>0.000069</td>\n",
              "    </tr>\n",
              "  </tbody>\n",
              "</table>\n",
              "</div>"
            ],
            "text/plain": [
              "    correct_Question  pdf_Barakha\n",
              "0                  1     0.007523\n",
              "1                  2     0.033853\n",
              "2                  3     0.092326\n",
              "3                  4     0.169964\n",
              "4                  5     0.222498\n",
              "5                  6     0.212385\n",
              "6                  7     0.148945\n",
              "7                  8     0.076165\n",
              "8                  9     0.027696\n",
              "9                 10     0.006798\n",
              "10                11     0.001011\n",
              "11                12     0.000069"
            ]
          },
          "metadata": {
            "tags": []
          },
          "execution_count": 142
        }
      ]
    },
    {
      "cell_type": "code",
      "metadata": {
        "colab": {
          "base_uri": "https://localhost:8080/",
          "height": 265
        },
        "id": "Rb1H29q5Zf50",
        "outputId": "eb50932d-0f96-42e7-b5e0-22fc70bd3466"
      },
      "source": [
        "plt.plot(distribution_df_Gaurav.correct_Question,distribution_df_Gaurav.pdf_Gaurav, color='green')\r\n",
        "plt.plot(distribution_df_Barakha.correct_Question,distribution_df_Barakha.pdf_Barakha, color='blue')\r\n",
        "\r\n",
        "plt.show()"
      ],
      "execution_count": 143,
      "outputs": [
        {
          "output_type": "display_data",
          "data": {
            "image/png": "[encoded data removed]",
            "text/plain": [
              "<Figure size 432x288 with 1 Axes>"
            ]
          },
          "metadata": {
            "tags": [],
            "needs_background": "light"
          }
        }
      ]
    },
    {
      "cell_type": "markdown",
      "metadata": {
        "id": "1wcEUTFXbFlm"
      },
      "source": [
        "The two main governing factors affecting their ability to solve questions correctly are-\r\n",
        "1.Accuracy to solve each answer \r\n",
        "2.Total number of questions attempted"
      ]
    },
    {
      "cell_type": "markdown",
      "metadata": {
        "id": "RZ_u3OQpblGq"
      },
      "source": [
        "Problem Statement 7:\r\n",
        "Customers arrive at a rate of 72 per hour to my shop. What is the probability of 𝑘\r\n",
        "customers arriving in 4 minutes? a) 5 customers, b) not more than 3 customers, c)\r\n",
        "more than 3 customers. Give a pictorial representation of the same to validate your\r\n",
        "answer."
      ]
    },
    {
      "cell_type": "markdown",
      "metadata": {
        "id": "mVn-p-l_divn"
      },
      "source": [
        "Solution - Pupulation mean= 72 per hour /n\r\n",
        "\r\n",
        "question being asked in the time frame of 4 minutes thus converting population mean /n\r\n",
        "\r\n",
        "(72/60)*4 =4.8"
      ]
    },
    {
      "cell_type": "code",
      "metadata": {
        "id": "Xq-KHApibEyn"
      },
      "source": [
        "def poissonDistribution(input,mean):\r\n",
        "  result=[]\r\n",
        "  for i in input:\r\n",
        "    probValue=math.exp(-mean)*((mean**i/math.factorial(i)))\r\n",
        "    result.append(probValue)\r\n",
        "  return result"
      ],
      "execution_count": 144,
      "outputs": []
    },
    {
      "cell_type": "code",
      "metadata": {
        "colab": {
          "base_uri": "https://localhost:8080/"
        },
        "id": "CXJU5NhCfmzz",
        "outputId": "1f598e71-fe7b-4b60-b172-5d73bc79b38f"
      },
      "source": [
        "case1=[5]\r\n",
        "result_a=poissonDistribution(case1,4.8)\r\n",
        "print('Prob for 5 customers is {} '.format(result_a[0]))"
      ],
      "execution_count": 145,
      "outputs": [
        {
          "output_type": "stream",
          "text": [
            "Prob for 5 customers is 0.1747476836438828 \n"
          ],
          "name": "stdout"
        }
      ]
    },
    {
      "cell_type": "code",
      "metadata": {
        "colab": {
          "base_uri": "https://localhost:8080/"
        },
        "id": "OUCEqjx_aVQy",
        "outputId": "23554a71-ccc8-45b3-8969-19ae93719eee"
      },
      "source": [
        "case2=[0,1,2,3]\r\n",
        "result_b=poissonDistribution(case2,4.8)\r\n",
        "print('Prob for no more than 3 is {} '.format(sum(result_b)))\r\n"
      ],
      "execution_count": 146,
      "outputs": [
        {
          "output_type": "stream",
          "text": [
            "Prob for no more than 3 is 0.2942299164965641 \n"
          ],
          "name": "stdout"
        }
      ]
    },
    {
      "cell_type": "code",
      "metadata": {
        "colab": {
          "base_uri": "https://localhost:8080/"
        },
        "id": "Xi0xr6Q7eJnd",
        "outputId": "cb7c0dc4-c820-4618-8049-f0b8107ef199"
      },
      "source": [
        "print('Prob for no more than 3 is {} '.format(1-sum(result_b)))"
      ],
      "execution_count": 147,
      "outputs": [
        {
          "output_type": "stream",
          "text": [
            "Prob for no more than 3 is 0.705770083503436 \n"
          ],
          "name": "stdout"
        }
      ]
    },
    {
      "cell_type": "markdown",
      "metadata": {
        "id": "MHv11zQKi-0Y"
      },
      "source": [
        "Problem Statement 8:\r\n",
        "I work as a data analyst in Aeon Learning Pvt. Ltd. After analyzing data, I make\r\n",
        "reports, where I have the efficiency of entering 77 words per minute with 6 errors per\r\n",
        "hour. What is the probability that I will commit 2 errors in a 455-word financial report?\r\n",
        "What happens when the no. of words increases/decreases (in case of 1000 words,\r\n",
        "255 words)?\r\n",
        "How is the 𝜆 affected?\r\n",
        "How does it influence the PMF?\r\n",
        "Give a pictorial representation of the same to validate your answer.\r\n"
      ]
    },
    {
      "cell_type": "code",
      "metadata": {
        "id": "DN6CQ48u0pEh"
      },
      "source": [
        "# 77 words per minutes\r\n",
        "# 6 errors per hour\r\n",
        "# 0.1 error per minute\r\n",
        "# 0.1 error per 77 words\r\n",
        "\r\n",
        "avgErrorPerWords=0.1/77\r\n",
        "\r\n"
      ],
      "execution_count": 150,
      "outputs": []
    },
    {
      "cell_type": "markdown",
      "metadata": {
        "id": "pEdy-nZx2AU2"
      },
      "source": [
        "Probability to commit 2 error in 455 word"
      ]
    },
    {
      "cell_type": "code",
      "metadata": {
        "colab": {
          "base_uri": "https://localhost:8080/"
        },
        "id": "7g2-DCVxgyBp",
        "outputId": "5a51db23-5ce3-4d4f-d1f6-79fdd91482fd"
      },
      "source": [
        "print('The probability to commit 2 errors in a 455-word is {}'.format(poissonDistribution([2],455*avgErrorPerWords)))\r\n",
        "print('The probability to commit 2 errors in a 455-word is {}'.format(poissonDistribution([2],1000*avgErrorPerWords)))\r\n",
        "print('The probability to commit 2 errors in a 455-word is {}'.format(poissonDistribution([2],255*avgErrorPerWords)))"
      ],
      "execution_count": 153,
      "outputs": [
        {
          "output_type": "stream",
          "text": [
            "The probability to commit 2 errors in a 455-word is [0.09669027375144446]\n",
            "The probability to commit 2 errors in a 455-word is [0.23012815007300153]\n",
            "The probability to commit 2 errors in a 455-word is [0.039377135392854104]\n"
          ],
          "name": "stdout"
        }
      ]
    },
    {
      "cell_type": "code",
      "metadata": {
        "colab": {
          "base_uri": "https://localhost:8080/",
          "height": 282
        },
        "id": "z9OhDIfK50Hf",
        "outputId": "55b1e1b3-a145-494b-ef10-748938e5180e"
      },
      "source": [
        "from scipy.stats import poisson\r\n",
        "x=range(100,1000,100)\r\n",
        "mu=[i*avgErrorPerWords for i in x]\r\n",
        "\r\n",
        "plt.plot(x,poisson.pmf(2,mu),color='red')\r\n",
        "plt.plot(x,mu,color='blue')"
      ],
      "execution_count": 159,
      "outputs": [
        {
          "output_type": "execute_result",
          "data": {
            "text/plain": [
              "[<matplotlib.lines.Line2D at 0x7f26513a52b0>]"
            ]
          },
          "metadata": {
            "tags": []
          },
          "execution_count": 159
        },
        {
          "output_type": "display_data",
          "data": {
            "image/png": "[encoded data removed]",
            "text/plain": [
              "<Figure size 432x288 with 1 Axes>"
            ]
          },
          "metadata": {
            "tags": [],
            "needs_background": "light"
          }
        }
      ]
    },
    {
      "cell_type": "markdown",
      "metadata": {
        "id": "ItdWCVXJ9Tvg"
      },
      "source": [
        "Prob. of error increases with Total words"
      ]
    },
    {
      "cell_type": "markdown",
      "metadata": {
        "id": "pkFVdGlc-JvC"
      },
      "source": [
        "Problem Statement 9:\r\n",
        "Let the continuous random variable D denote the diameter of the hole drilled in an\r\n",
        "aluminum sheet. The target diameter to be achieved is 12.5mm. Random\r\n",
        "disturbances in the process often result in inaccuracy.\r\n",
        "Historical data shows that the distribution of D can be modelled by the PDF, f(d) =\r\n",
        "20e−20(d−12.5), d ≥ 12.5. If a part with diameter > 12.6 mm needs to be scrapped,\r\n",
        "what is the proportion of those parts? What is the CDF when the diameter is of 11\r\n",
        "mm?\r\n",
        "What is the conclusion of this experiment?"
      ]
    },
    {
      "cell_type": "markdown",
      "metadata": {
        "id": "HEClMWXM-ZM7"
      },
      "source": [
        "Problem 10 : Please compute the following:\r\n",
        "a) P(Z > 1.26), . P(Z < −0.86), P(Z > −1.37), P(−1.25 < Z < 0.37), . P(Z ≤ −4.6)\r\n",
        "b) Find the value 𝑧 such that 𝑃(𝑍 > 𝑧) = 0.05\r\n",
        "c) Find the value of 𝑧 such that 𝑃(−𝑧 < 𝑍 < 𝑧) = 0.99\r\n"
      ]
    },
    {
      "cell_type": "code",
      "metadata": {
        "id": "YbObMKuDnWsB"
      },
      "source": [
        "from scipy.stats import norm\r\n",
        "def get_p_value_normal(a,z_score):\r\n",
        "  return scipy.integrate.quad(norm.pdf,a,z_score)\r\n"
      ],
      "execution_count": 26,
      "outputs": []
    },
    {
      "cell_type": "code",
      "metadata": {
        "colab": {
          "base_uri": "https://localhost:8080/"
        },
        "id": "3Uyz0YDf7G3s",
        "outputId": "f2314b52-7e34-417d-ac08-ddb455a2d197"
      },
      "source": [
        "# a .  P(Z > 1.26) = 1- P(Z<=1.26)\r\n",
        "print('P(Z > 1.26)  is {}'.format(1-get_p_value_normal(-np.inf,1.26)[0]))"
      ],
      "execution_count": 30,
      "outputs": [
        {
          "output_type": "stream",
          "text": [
            "P(Z > 1.26)  is 0.10383468112129923\n"
          ],
          "name": "stdout"
        }
      ]
    },
    {
      "cell_type": "code",
      "metadata": {
        "colab": {
          "base_uri": "https://localhost:8080/"
        },
        "id": "bFvdVxRe-WaN",
        "outputId": "33b09cc0-8a09-42fe-be4d-c4a10ad83ded"
      },
      "source": [
        "# P(Z < −0.86), P(Z > −1.37), P(−1.25 < Z < 0.37), . P(Z ≤ −4.6)\r\n",
        "print('P(Z < −0.86) is {}'.format(get_p_value_normal(-np.inf,-0.86)[0]))\r\n",
        "print('P(Z > −1.37) is {}'.format(1-get_p_value_normal(-np.inf,-1.37)[0]))\r\n",
        "print('P(−1.25 < Z < 0.37) is {}'.format(get_p_value_normal(-1.25,0.37)[0]))\r\n",
        "print('P(Z < −4.6) is {}'.format(get_p_value_normal(-np.inf,-4.6)[0]))"
      ],
      "execution_count": 37,
      "outputs": [
        {
          "output_type": "stream",
          "text": [
            "P(Z < −0.86) is 0.19489452125180842\n",
            "P(Z > −1.37) is 0.914656549178033\n",
            "P(−1.25 < Z < 0.37) is 0.5386589811336916\n",
            "P(Z < −4.6) is 2.1124545922985606e-06\n"
          ],
          "name": "stdout"
        }
      ]
    },
    {
      "cell_type": "markdown",
      "metadata": {
        "id": "B2Nq6f0ZwPX3"
      },
      "source": [
        "b) Find the value 𝑧 such that 𝑃(𝑍 > 𝑧) = 0.05"
      ]
    },
    {
      "cell_type": "code",
      "metadata": {
        "id": "aF3jqEHYolAU"
      },
      "source": [
        ""
      ],
      "execution_count": 61,
      "outputs": []
    },
    {
      "cell_type": "code",
      "metadata": {
        "colab": {
          "base_uri": "https://localhost:8080/"
        },
        "id": "6RW_Nr3zpYUU",
        "outputId": "0144d29e-8a2a-4203-f5e3-df5b62fe94be"
      },
      "source": [
        "import scipy.stats as st\r\n",
        "print('Value of Z for P(Z>z)=0.05 is {}'.format(st.norm.ppf(.95)))\r\n",
        "print('Value of Z for 𝑃(−𝑧 < 𝑍 < 𝑧) = 0.99 is {}'.format(abs(st.norm.ppf(.005))))"
      ],
      "execution_count": 45,
      "outputs": [
        {
          "output_type": "stream",
          "text": [
            "Value of Z for P(Z>z)=0.05 is 1.6448536269514722\n",
            "Value of Z for 𝑃(−𝑧 < 𝑍 < 𝑧) = 0.99 is 2.575829303548901\n"
          ],
          "name": "stdout"
        }
      ]
    },
    {
      "cell_type": "markdown",
      "metadata": {
        "id": "VRf4U5Uh4HdT"
      },
      "source": [
        "Problem Statement 11:\r\n",
        "The current flow in a copper wire follow a normal distribution with a mean of 10 𝑚A\r\n",
        "and a variance of 4 (𝑚𝐴)2.\r\n",
        "What is the probability that a current measurement will exceed 13 𝑚𝐴? What is the\r\n",
        "probability that a current measurement is between 9 and 11mA? Determine the\r\n",
        "current measurement which has a probability of 0.98."
      ]
    },
    {
      "cell_type": "markdown",
      "metadata": {
        "id": "swNbR6z04Q9X"
      },
      "source": [
        "Solution -\r\n"
      ]
    },
    {
      "cell_type": "code",
      "metadata": {
        "id": "mXWBn76hzTPJ"
      },
      "source": [
        "mean=10\r\n",
        "variance=4\r\n",
        "std_dev=np.sqrt(variance)"
      ],
      "execution_count": 48,
      "outputs": []
    },
    {
      "cell_type": "code",
      "metadata": {
        "colab": {
          "base_uri": "https://localhost:8080/"
        },
        "id": "CwQFHZWg4pyb",
        "outputId": "cb47f4a0-0b2f-4b39-c15b-6b12b1a0abd6"
      },
      "source": [
        "#Z score at 13\r\n",
        "val1=(13-mean)/std_dev\r\n",
        "val1"
      ],
      "execution_count": 50,
      "outputs": [
        {
          "output_type": "execute_result",
          "data": {
            "text/plain": [
              "1.5"
            ]
          },
          "metadata": {
            "tags": []
          },
          "execution_count": 50
        }
      ]
    },
    {
      "cell_type": "code",
      "metadata": {
        "colab": {
          "base_uri": "https://localhost:8080/"
        },
        "id": "LbGVf2d05BQ-",
        "outputId": "f0103633-835a-4323-b1b0-93a00ebb975f"
      },
      "source": [
        "print('Prob of current measurement > 13 mA is {}'.format(1-get_p_value_normal(-np.inf,val1)[0]))"
      ],
      "execution_count": 53,
      "outputs": [
        {
          "output_type": "stream",
          "text": [
            "Prob of current measurement > 13 mA is 0.06680720126885797\n"
          ],
          "name": "stdout"
        }
      ]
    },
    {
      "cell_type": "code",
      "metadata": {
        "colab": {
          "base_uri": "https://localhost:8080/"
        },
        "id": "a13fSRnQ5a0O",
        "outputId": "8f4e5417-f608-4506-b530-668152f94ede"
      },
      "source": [
        "#The probability that a current measurement is between 9 and 11mA\r\n",
        "Z1=(9-mean)/std_dev\r\n",
        "Z2=(11-mean)/std_dev\r\n",
        "print('Prob of current measurement between 9 and 11mA is {}'.format(get_p_value_normal(Z1,Z2)[0]))"
      ],
      "execution_count": 55,
      "outputs": [
        {
          "output_type": "stream",
          "text": [
            "Prob of current measurement between 9 and 11mA is 0.3829249225480263\n"
          ],
          "name": "stdout"
        }
      ]
    },
    {
      "cell_type": "markdown",
      "metadata": {
        "id": "gWCLWDVz8q0L"
      },
      "source": [
        "Problem Statement 12:\r\n",
        "The shaft in a piston has its diameter normally distributed with a mean of 0.2508 inch\r\n",
        "and a standard deviation of 0.0005 inch. The specifications of the shaft are 0.2500 ∓\r\n",
        "0.0015 inch. What proportion of shafts are in sync with the specifications? If the\r\n",
        "process is centered so that the mean is equal to the target value of 0.2500, what\r\n",
        "proportion of shafts conform to the new specifications? What is your conclusion from\r\n",
        "this experiment?\r\n"
      ]
    },
    {
      "cell_type": "code",
      "metadata": {
        "id": "8jisi7Y660Yj"
      },
      "source": [
        "mean=0.2508\r\n",
        "st_dev=0.0005"
      ],
      "execution_count": 56,
      "outputs": []
    },
    {
      "cell_type": "code",
      "metadata": {
        "colab": {
          "base_uri": "https://localhost:8080/"
        },
        "id": "GAfdBqK--aLJ",
        "outputId": "7e023d6f-9ec9-4702-9dda-b76bfcd1dba1"
      },
      "source": [
        "Z1=((0.2500-0.0015)-mean)/st_dev\r\n",
        "Z2=((0.2500+0.0015)-mean)/st_dev\r\n",
        "prob1=get_p_value_normal(Z1,Z2)[0]\r\n",
        "print('proportion of shafts are in sync with the old specifications is {}'.format(prob1))"
      ],
      "execution_count": 59,
      "outputs": [
        {
          "output_type": "execute_result",
          "data": {
            "text/plain": [
              "0.9192412283115201"
            ]
          },
          "metadata": {
            "tags": []
          },
          "execution_count": 59
        }
      ]
    },
    {
      "cell_type": "code",
      "metadata": {
        "id": "Z0Xts89_AVlS"
      },
      "source": [
        "mean=0.2500\r\n",
        "st_dev=0.0005"
      ],
      "execution_count": 60,
      "outputs": []
    },
    {
      "cell_type": "code",
      "metadata": {
        "colab": {
          "base_uri": "https://localhost:8080/"
        },
        "id": "GjoGwfwJBImZ",
        "outputId": "e1c3c0ee-9f81-423d-8a5e-bc0141735dee"
      },
      "source": [
        "Z1=((0.2500-0.0015)-mean)/st_dev\r\n",
        "Z2=((0.2500+0.0015)-mean)/st_dev\r\n",
        "prob2=get_p_value_normal(Z1,Z2)[0]\r\n",
        "print('proportion of shafts are in sync with the new  specifications is {}'.format(prob2))"
      ],
      "execution_count": 61,
      "outputs": [
        {
          "output_type": "stream",
          "text": [
            "proportion of shafts are in sync with the new  specifications is 0.9973002039367398\n"
          ],
          "name": "stdout"
        }
      ]
    },
    {
      "cell_type": "code",
      "metadata": {
        "id": "uP5kdunYBL6W"
      },
      "source": [
        ""
      ],
      "execution_count": null,
      "outputs": []
    }
  ]
}