{
  "nbformat": 4,
  "nbformat_minor": 0,
  "metadata": {
    "colab": {
      "name": "Stats3.ipynb",
      "provenance": []
    },
    "kernelspec": {
      "name": "python3",
      "display_name": "Python 3"
    }
  },
  "cells": [
    {
      "cell_type": "code",
      "metadata": {
        "id": "WDXI6WXvdktd"
      },
      "source": [
        "import pandas as pd\r\n",
        "import numpy as np\r\n",
        "import scipy.special\r\n",
        "import matplotlib.pyplot as plt\r\n",
        "import math\r\n",
        "import scipy.stats as st"
      ],
      "execution_count": 7,
      "outputs": []
    },
    {
      "cell_type": "markdown",
      "metadata": {
        "id": "B799ZK3Xd2Sx"
      },
      "source": [
        "Problem Statement 1:\r\n",
        "Blood glucose levels for obese patients have a mean of 100 with a standard deviation of 15. A researcher thinks that a diet high in raw cornstarch will have a positive effect on\r\n",
        "blood glucose levels. A sample of 36 patients who have tried the raw cornstarch diet\r\n",
        "have a mean glucose level of 108. Test the hypothesis that the raw cornstarch had an\r\n",
        "effect or not."
      ]
    },
    {
      "cell_type": "markdown",
      "metadata": {
        "id": "mqLIYjysfFHL"
      },
      "source": [
        "H0- Cornstarch has no effect\r\n"
      ]
    },
    {
      "cell_type": "code",
      "metadata": {
        "id": "klnXfU2ids-D"
      },
      "source": [
        "mean=100\r\n",
        "std=15\r\n",
        "sampleSize=36\r\n",
        "samplemean=108\r\n",
        "alpha=0.05\r\n",
        "SE=std/(sampleSize**0.5)\r\n",
        "z=(samplemean-mean)/SE\r\n",
        "z1=st.norm.ppf(0.975)\r\n"
      ],
      "execution_count": 5,
      "outputs": []
    },
    {
      "cell_type": "code",
      "metadata": {
        "colab": {
          "base_uri": "https://localhost:8080/"
        },
        "id": "Dwgjm2p0f53l",
        "outputId": "95e035e3-546b-4a74-83c7-194b001d6695"
      },
      "source": [
        "z1,z"
      ],
      "execution_count": 6,
      "outputs": [
        {
          "output_type": "execute_result",
          "data": {
            "text/plain": [
              "(1.959963984540054, 3.2)"
            ]
          },
          "metadata": {
            "tags": []
          },
          "execution_count": 6
        }
      ]
    },
    {
      "cell_type": "markdown",
      "metadata": {
        "id": "rb3qe5zYgLVX"
      },
      "source": [
        "Reject null hypothesis, cornstarch has effect on blood sugar level"
      ]
    },
    {
      "cell_type": "markdown",
      "metadata": {
        "id": "CSn1L6zogoXr"
      },
      "source": [
        "Problem Statement 2:\r\n",
        "In one state, 52% of the voters are Republicans, and 48% are Democrats. In a second\r\n",
        "state, 47% of the voters are Republicans, and 53% are Democrats. Suppose a simple\r\n",
        "random sample of 100 voters are surveyed from each state.\r\n",
        "What is the probability that the survey will show a greater percentage of Republican\r\n",
        "voters in the second state than in the first state?"
      ]
    },
    {
      "cell_type": "markdown",
      "metadata": {
        "id": "b3aSbxp6g7uM"
      },
      "source": [
        "sample size =100 per state\r\n",
        "\r\n",
        "\r\n",
        "\r\n"
      ]
    },
    {
      "cell_type": "markdown",
      "metadata": {
        "id": "LxZISckBi8k7"
      },
      "source": [
        "H0- There is no difference in vote\r\n",
        "\r\n",
        "p1=0.52\r\n",
        "p2=0.47\r\n",
        "\r\n",
        "prob. that in survey p2>p1 or p1-p2<0\r\n",
        "\r\n",
        "mean difference in proportion=p1-p2=0.5\r\n",
        "\r\n",
        "\r\n",
        "\r\n",
        "std = sqrt{ [ P1(1 - P1) / n1 ] + [ P2(1 - P2) / n2 ] }\r\n",
        "std = sqrt{ [ (0.52)(0.48) / 100 ] + [ (0.47)(0.53) / 100 ] }\r\n",
        "std = sqrt (0.002496 + 0.002491) = sqrt(0.004987) = 0.0706\r\n",
        "\r\n"
      ]
    },
    {
      "cell_type": "code",
      "metadata": {
        "id": "ioXu1zywf64O"
      },
      "source": [
        "z=(0-0.5)/0.0706"
      ],
      "execution_count": 8,
      "outputs": []
    },
    {
      "cell_type": "code",
      "metadata": {
        "colab": {
          "base_uri": "https://localhost:8080/"
        },
        "id": "qs0I7SsmvT9D",
        "outputId": "a39fce1a-5e99-48bf-aa02-7b66f1c95e47"
      },
      "source": [
        "z"
      ],
      "execution_count": 9,
      "outputs": [
        {
          "output_type": "execute_result",
          "data": {
            "text/plain": [
              "-7.0821529745042495"
            ]
          },
          "metadata": {
            "tags": []
          },
          "execution_count": 9
        }
      ]
    },
    {
      "cell_type": "markdown",
      "metadata": {
        "id": "cpq7AY45vhJQ"
      },
      "source": [
        "Prob as per z table is 0.24"
      ]
    },
    {
      "cell_type": "markdown",
      "metadata": {
        "id": "9vowgW3qx8-3"
      },
      "source": [
        "Problem Statement 3:\r\n",
        "You take the SAT and score 1100. The mean score for the SAT is 1026 and the standard\r\n",
        "deviation is 209. How well did you score on the test compared to the average test taker?\r\n"
      ]
    },
    {
      "cell_type": "markdown",
      "metadata": {
        "id": "ni1_ZFVG2DOi"
      },
      "source": [
        ""
      ]
    },
    {
      "cell_type": "markdown",
      "metadata": {
        "id": "Gq__lAL-6-2l"
      },
      "source": [
        "H0- Performed well i.e One tail test\r\n",
        "let alpha be 0.05\r\n",
        "```\r\n",
        "\r\n"
      ]
    },
    {
      "cell_type": "code",
      "metadata": {
        "colab": {
          "base_uri": "https://localhost:8080/"
        },
        "id": "6yHofhnBvUr3",
        "outputId": "6dd414ba-5f58-45d9-fb7c-fc821c04a56a"
      },
      "source": [
        "mu = 1026\r\n",
        "sd = 209\r\n",
        "z=(1100-1026)/209\r\n",
        "print(\"My Score is in the range {} - {}  with a  zscore {:.2f}\".format(mu - sd,mu + sd,z))"
      ],
      "execution_count": 13,
      "outputs": [
        {
          "output_type": "stream",
          "text": [
            "My Score is in the range 817 - 1235  with a  zscore 0.35\n"
          ],
          "name": "stdout"
        }
      ]
    },
    {
      "cell_type": "markdown",
      "metadata": {
        "id": "ilZx9wiu9Z_V"
      },
      "source": [
        "Accept null hypothesis \r\n"
      ]
    },
    {
      "cell_type": "code",
      "metadata": {
        "id": "de44W2sPvZn_"
      },
      "source": [
        ""
      ],
      "execution_count": 14,
      "outputs": []
    },
    {
      "cell_type": "code",
      "metadata": {
        "id": "v7q4UYUh9Xl4"
      },
      "source": [
        ""
      ],
      "execution_count": null,
      "outputs": []
    }
  ]
}