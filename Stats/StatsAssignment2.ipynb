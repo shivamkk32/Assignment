{
  "nbformat": 4,
  "nbformat_minor": 0,
  "metadata": {
    "colab": {
      "name": "StatsAssignment2.ipynb",
      "provenance": []
    },
    "kernelspec": {
      "name": "python3",
      "display_name": "Python 3"
    }
  },
  "cells": [
    {
      "cell_type": "code",
      "metadata": {
        "id": "Y0e3GBZtBux_"
      },
      "source": [
        "import pandas as pd\r\n",
        "import numpy as np\r\n",
        "import scipy.special\r\n",
        "import matplotlib.pyplot as plt\r\n",
        "import math\r\n",
        "import scipy.stats as st"
      ],
      "execution_count": 1,
      "outputs": []
    },
    {
      "cell_type": "markdown",
      "metadata": {
        "id": "fWuFhrTjCisg"
      },
      "source": [
        "Problem Statement 1:\r\n",
        "In each of the following situations, state whether it is a correctly stated hypothesis\r\n",
        "testing problem and why?\r\n",
        "1. 𝐻0: 𝜇 = 25, 𝐻1: 𝜇 ≠ 25\r\n",
        "2. 𝐻0: 𝜎 > 10, 𝐻1: 𝜎 = 10\r\n",
        "3. 𝐻0: 𝑥 = 50, 𝐻1: 𝑥 ≠ 50\r\n",
        "4. 𝐻0: 𝑝 = 0.1, 𝐻1: 𝑝 = 0.5\r\n",
        "5. 𝐻0: 𝑠 = 30, 𝐻1: 𝑠 > 30\r\n"
      ]
    },
    {
      "cell_type": "markdown",
      "metadata": {
        "id": "glxkCfpPCkJF"
      },
      "source": [
        "Solution - Only 1 correctly stated hypothesis testing because in these 2 conditions only the alternate hypothesis contains all the conditions to reject the null hypothesis \r\n",
        "\r\n",
        "2.Alternate hypothesis is also having equality term \r\n",
        "\r\n",
        "\r\n",
        "3.Hypotheis testing is done w.r.t to population not sample \r\n",
        "\r\n",
        "\r\n",
        "4.Alternate hypothesis is also having equality term \r\n",
        "\r\n",
        "\r\n",
        "5.Hypotheis testing is done w.r.t to population not sample \r\n",
        "\r\n"
      ]
    },
    {
      "cell_type": "markdown",
      "metadata": {
        "id": "MXXOT5_0DM4p"
      },
      "source": [
        "Problem Statement 2:\r\n",
        "The college bookstore tells prospective students that the average cost of its\r\n",
        "textbooks is Rs. 52 with a standard deviation of Rs. 4.50. A group of smart statistics\r\n",
        "students thinks that the average cost is higher. To test the bookstore’s claim against\r\n",
        "their alternative, the students will select a random sample of size 100. Assume that\r\n",
        "the mean from their random sample is Rs. 52.80. Perform a hypothesis test at the\r\n",
        "5% level of significance and state your decision."
      ]
    },
    {
      "cell_type": "markdown",
      "metadata": {
        "id": "I1Mpq-R-F2l0"
      },
      "source": [
        "Null hypothesis : Price is 52\r\n",
        "\r\n",
        "We reject the null hypothsis only if sample price is sinificantly higher than 52\r\n"
      ]
    },
    {
      "cell_type": "code",
      "metadata": {
        "id": "8otyxhtCChne"
      },
      "source": [
        "mean=52\r\n",
        "std_dev=4.5\r\n",
        "n=100\r\n",
        "sampleMean=52.80\r\n",
        "std_error=std_dev/np.sqrt(n)\r\n",
        "z=(sampleMean-mean)/std_error\r\n",
        "\r\n",
        "z1=st.norm.ppf(0.95)\r\n"
      ],
      "execution_count": null,
      "outputs": []
    },
    {
      "cell_type": "code",
      "metadata": {
        "colab": {
          "base_uri": "https://localhost:8080/"
        },
        "id": "dZ5E3RcWKGSh",
        "outputId": "29a4c4e6-0631-46bf-fe8a-e55639057a07"
      },
      "source": [
        "print(z,z1)"
      ],
      "execution_count": null,
      "outputs": [
        {
          "output_type": "stream",
          "text": [
            "1.7777777777777715 1.6448536269514722\n"
          ],
          "name": "stdout"
        }
      ]
    },
    {
      "cell_type": "markdown",
      "metadata": {
        "id": "KPUsY1nWNsBZ"
      },
      "source": [
        "Conclusion - Since z lies in the critical region we reject the null hypothesis and conclude that price of books are higher than 52"
      ]
    },
    {
      "cell_type": "markdown",
      "metadata": {
        "id": "UNJPAvnrOBi4"
      },
      "source": [
        "Problem Statement 3:\r\n",
        "A certain chemical pollutant in the Genesee River has been constant for several\r\n",
        "years with mean μ = 34 ppm (parts per million) and standard deviation σ = 8 ppm. A\r\n",
        "group of factory representatives whose companies discharge liquids into the river is\r\n",
        "now claiming that they have lowered the average with improved filtration devices. A\r\n",
        "group of environmentalists will test to see if this is true at the 1% level of\r\n",
        "significance. Assume \\ that their sample of size 50 gives a mean of 32.5 ppm.\r\n",
        "Perform a hypothesis test at the 1% level of significance and state your decision.\r\n"
      ]
    },
    {
      "cell_type": "markdown",
      "metadata": {
        "id": "Z0CmWOaeQBT5"
      },
      "source": [
        "H0- Avg is less than 34 ppm\r\n",
        "\r\n",
        "\r\n",
        "H1- Avg is greater or equal to 34 ppm\r\n",
        "\r\n",
        "Thus it is a one tail test"
      ]
    },
    {
      "cell_type": "code",
      "metadata": {
        "id": "zzxXw9K4KTDg"
      },
      "source": [
        "mean=34\r\n",
        "std_dev=8\r\n",
        "n=52\r\n",
        "sampleMean=32.50\r\n",
        "std_error=std_dev/np.sqrt(n)\r\n",
        "z=(sampleMean-mean)/std_error\r\n",
        "\r\n",
        "z1=st.norm.ppf(0.99)"
      ],
      "execution_count": null,
      "outputs": []
    },
    {
      "cell_type": "code",
      "metadata": {
        "colab": {
          "base_uri": "https://localhost:8080/"
        },
        "id": "9gDW__YlQp2F",
        "outputId": "6d6abec3-dcf2-48be-88a9-e91388f935fb"
      },
      "source": [
        "print(z,z1)"
      ],
      "execution_count": null,
      "outputs": [
        {
          "output_type": "stream",
          "text": [
            "-1.3520817282989959 2.3263478740408408\n"
          ],
          "name": "stdout"
        }
      ]
    },
    {
      "cell_type": "markdown",
      "metadata": {
        "id": "MTBGXlypRMwm"
      },
      "source": [
        "Conclusion - Since z < 2.32 thus we accept the null hypothsis and conclude that mean has decreased"
      ]
    },
    {
      "cell_type": "markdown",
      "metadata": {
        "id": "rX89Pyq0Rpdl"
      },
      "source": [
        "Problem Statement 4:\r\n",
        "Based on population figures and other general information on the U.S. population,\r\n",
        "suppose it has been estimated that, on average, a family of four in the U.S. spends\r\n",
        "about $1135 annually on dental expenditures. Suppose further that a regional dental\r\n",
        "association wants to test to determine if this figure is accurate for their area of\r\n",
        "country. To test this, 22 families of 4 are randomly selected from the population in\r\n",
        "that area of the country and a log is kept of the family’s dental expenditure for one\r\n",
        "year. The resulting data are given below. Assuming, that dental expenditure is\r\n",
        "normally distributed in the population, use the data and an alpha of 0.5 to test the\r\n",
        "dental association’s hypothesis.\r\n",
        "1008, 812, 1117, 1323, 1308, 1415, 831, 1021, 1287, 851, 930, 730, 699,\r\n",
        "872, 913, 944, 954, 987, 1695, 995, 1003, 994"
      ]
    },
    {
      "cell_type": "markdown",
      "metadata": {
        "id": "U6Q0BRj7zJ4j"
      },
      "source": [
        "Null hypothesis- Mean is $1135\r\n"
      ]
    },
    {
      "cell_type": "code",
      "metadata": {
        "id": "7D443wjUQpZX"
      },
      "source": [
        "sample=np.asarray([1008, 812, 1117, 1323, 1308, 1415, 831, 1021, 1287, 851, 930, 730, 699, 872, 913, 944, 954, 987, 1695, 995, 1003, 994])\r\n",
        "sampleMean=np.mean(sample)\r\n",
        "n=len(sample)\r\n",
        "pmean=1135\r\n",
        "std=np.std(sample)\r\n",
        "SE=std/n**0.5\r\n",
        "\r\n",
        "t=(sampleMean-pmean)/SE\r\n",
        "\r\n",
        "t1=st.t.ppf(0.05,df=n-1)\r\n"
      ],
      "execution_count": 18,
      "outputs": []
    },
    {
      "cell_type": "code",
      "metadata": {
        "colab": {
          "base_uri": "https://localhost:8080/"
        },
        "id": "V77nWOQsyers",
        "outputId": "7e17dd7c-7d29-4f84-c650-00165825e2a8"
      },
      "source": [
        "t,t1\r\n"
      ],
      "execution_count": 19,
      "outputs": [
        {
          "output_type": "execute_result",
          "data": {
            "text/plain": [
              "(-2.070747228595759, -1.7207429028118777)"
            ]
          },
          "metadata": {
            "tags": []
          },
          "execution_count": 19
        }
      ]
    },
    {
      "cell_type": "markdown",
      "metadata": {
        "id": "xk4V7wFTyz-_"
      },
      "source": [
        "Confidence interval is -0.68 to 0.68 and t lies in the critical zone thus null hypothesis is rejected"
      ]
    },
    {
      "cell_type": "markdown",
      "metadata": {
        "id": "4YNvGG281xN_"
      },
      "source": [
        "\r\n",
        "Problem Statement 5:\r\n",
        "In a report prepared by the Economic Research Department of a major bank the Department manager maintains that the average annual family income on Metropolis is 48432. What do you conclude about the validity of the report if a random sample of 400 families shows and average income of 48,574 with a standard deviation of 2000?"
      ]
    },
    {
      "cell_type": "markdown",
      "metadata": {
        "id": "1mx8oBa83QYR"
      },
      "source": [
        "Null Hypothesis= Mean is 48432"
      ]
    },
    {
      "cell_type": "code",
      "metadata": {
        "id": "CWtZKKFXyhBN"
      },
      "source": [
        "pmean=48432\r\n",
        "n=400\r\n",
        "sampleMean=48574\r\n",
        "std=2000\r\n",
        "SE=std/n**0.5\r\n",
        "alpha=0.05\r\n",
        "z=(sampleMean-pmean)/SE\r\n",
        "z1=st.norm.ppf(alpha/2)"
      ],
      "execution_count": 15,
      "outputs": []
    },
    {
      "cell_type": "code",
      "metadata": {
        "colab": {
          "base_uri": "https://localhost:8080/"
        },
        "id": "XWCDmdLV3KAH",
        "outputId": "6ab1b574-f08e-41b5-eb30-bb9d7b5b5798"
      },
      "source": [
        "z1,z"
      ],
      "execution_count": 17,
      "outputs": [
        {
          "output_type": "execute_result",
          "data": {
            "text/plain": [
              "(-1.9599639845400545, 1.42)"
            ]
          },
          "metadata": {
            "tags": []
          },
          "execution_count": 17
        }
      ]
    },
    {
      "cell_type": "markdown",
      "metadata": {
        "id": "iVVs6bOQ3ZcD"
      },
      "source": [
        "Accept null hypothesis"
      ]
    },
    {
      "cell_type": "code",
      "metadata": {
        "id": "kQ4Co51T3LsM"
      },
      "source": [
        ""
      ],
      "execution_count": null,
      "outputs": []
    },
    {
      "cell_type": "markdown",
      "metadata": {
        "id": "CC25SVAm3Ybg"
      },
      "source": [
        "\r\n",
        "Problem Statement 6:\r\n",
        "Suppose that in past years the average price per square foot for warehouses in the United States has been 32.28. A national real estate investor wants to determine whether that figure has changed now. The investor hires a researcher who randomly samples 19 warehouses that are for sale across the United States and finds that the mean price per square foot is 31.67, with a standard deviation of 1.29. assume that the prices of warehouse footage are normally distributed in population. If the researcher uses a 5% level of significance, what statistical conclusion can be reached? What are the hypotheses?"
      ]
    },
    {
      "cell_type": "markdown",
      "metadata": {
        "id": "lxDhNc494qq1"
      },
      "source": [
        "Null hypothesis - Average price is 32.28"
      ]
    },
    {
      "cell_type": "code",
      "metadata": {
        "id": "v3v6NKAi3jXq"
      },
      "source": [
        "sampleMean=31.67\r\n",
        "std=1.29\r\n",
        "n=19\r\n",
        "pmean=32.28\r\n",
        "alpha=0.05\r\n",
        "SE=std/n**0.5\r\n",
        "t=(sampleMean-pmean)/SE\r\n",
        "\r\n",
        "t1=st.t.ppf(0.025,df=n-1)"
      ],
      "execution_count": 21,
      "outputs": []
    },
    {
      "cell_type": "code",
      "metadata": {
        "colab": {
          "base_uri": "https://localhost:8080/"
        },
        "id": "VfzQT84q6V6h",
        "outputId": "e98b38e4-2642-4477-ef55-36bf4feb9c22"
      },
      "source": [
        "t,t1"
      ],
      "execution_count": 22,
      "outputs": [
        {
          "output_type": "execute_result",
          "data": {
            "text/plain": [
              "(-2.06118477175179, -2.10092204024096)"
            ]
          },
          "metadata": {
            "tags": []
          },
          "execution_count": 22
        }
      ]
    },
    {
      "cell_type": "markdown",
      "metadata": {
        "id": "Yw1tJo5W6oWk"
      },
      "source": [
        "The t value marginally lies in the confidence interval thus cant comclude on null hypothesis"
      ]
    },
    {
      "cell_type": "markdown",
      "metadata": {
        "id": "CWd4j9YI7cgR"
      },
      "source": [
        "Problem Statement 7:\r\n"
      ]
    },
    {
      "cell_type": "markdown",
      "metadata": {
        "id": "6lUqAoAEYHZ4"
      },
      "source": [
        "In the question values of alpha and standard deviation are not given, so it is not possible to find the value of beta."
      ]
    },
    {
      "cell_type": "markdown",
      "metadata": {
        "id": "xwNkZn8sYL8h"
      },
      "source": [
        "Problem Statement 8:\r\n",
        "Find the t-score for a sample size of 16 taken from a population with mean 10 when\r\n",
        "the sample mean is 12 and the sample standard deviation is 1.5.\r\n"
      ]
    },
    {
      "cell_type": "code",
      "metadata": {
        "id": "CLZ2744b6bAR"
      },
      "source": [
        "pmean=10\r\n",
        "alpha=0.05\r\n",
        "sampleMean=12\r\n",
        "n=16\r\n",
        "std=1.5\r\n",
        "SE=std/(n**0.5)\r\n",
        "t=(sampleMean-pmean)/SE\r\n",
        "t1=st.t.ppf(alpha/2,df=n-1)"
      ],
      "execution_count": 2,
      "outputs": []
    },
    {
      "cell_type": "code",
      "metadata": {
        "colab": {
          "base_uri": "https://localhost:8080/"
        },
        "id": "mZKZV3eeZr3N",
        "outputId": "75973669-edd5-4ae8-80bd-718a28f3cc27"
      },
      "source": [
        "t,t1"
      ],
      "execution_count": 3,
      "outputs": [
        {
          "output_type": "execute_result",
          "data": {
            "text/plain": [
              "(5.333333333333333, -2.131449545559323)"
            ]
          },
          "metadata": {
            "tags": []
          },
          "execution_count": 3
        }
      ]
    },
    {
      "cell_type": "markdown",
      "metadata": {
        "id": "qCkwrMVmZxr-"
      },
      "source": [
        "Sample mean in not equal to poplulation mean"
      ]
    },
    {
      "cell_type": "markdown",
      "metadata": {
        "id": "pdEK1jbcaFV_"
      },
      "source": [
        "Problem Statement 9:\r\n",
        "Find the t-score below which we can expect 99% of sample means will fall if samples\r\n",
        "of size 16 are taken from a normally distributed population."
      ]
    },
    {
      "cell_type": "code",
      "metadata": {
        "colab": {
          "base_uri": "https://localhost:8080/"
        },
        "id": "Y0QvoYjVZt4t",
        "outputId": "b429a365-21c4-4122-e89b-db086edf1b9e"
      },
      "source": [
        "n=16\r\n",
        "t1=st.t.ppf(0.99,df=n-1)\r\n",
        "\r\n",
        "print('Below the t score of {} '.format(t1))"
      ],
      "execution_count": 6,
      "outputs": [
        {
          "output_type": "stream",
          "text": [
            "Below the t score of 2.602480294995493 \n"
          ],
          "name": "stdout"
        }
      ]
    },
    {
      "cell_type": "markdown",
      "metadata": {
        "id": "USXrOKqWbZ3P"
      },
      "source": [
        "Problem Statement 10:\r\n",
        "If a random sample of size 25 drawn from a normal population gives a mean of 60\r\n",
        "and a standard deviation of 4, find the range of t-scores where we can expect to find\r\n",
        "the middle 95% of all sample means. Compute the probability that (−𝑡0.05 <𝑡<𝑡0.10)"
      ]
    },
    {
      "cell_type": "code",
      "metadata": {
        "colab": {
          "base_uri": "https://localhost:8080/"
        },
        "id": "hCgFHZn0alz1",
        "outputId": "b3632827-93af-45da-c7b3-4f194b2d292c"
      },
      "source": [
        "print(\"The t-score where we can expect to find the middle 95% of all sample means is :\",st.t.ppf(q=0.95,df=24))"
      ],
      "execution_count": 8,
      "outputs": [
        {
          "output_type": "stream",
          "text": [
            "The t-score where we can expect to find the middle 95% of all sample means is : 1.7108820799094275\n"
          ],
          "name": "stdout"
        }
      ]
    },
    {
      "cell_type": "code",
      "metadata": {
        "colab": {
          "base_uri": "https://localhost:8080/"
        },
        "id": "Nuuf5_AbcbzN",
        "outputId": "c7929d33-dad2-4fc3-e10e-4114cafcf7af"
      },
      "source": [
        "print(\"P(−𝑡0.05 <𝑡<𝑡0.10) = \",1-0.05-0.10)"
      ],
      "execution_count": 13,
      "outputs": [
        {
          "output_type": "stream",
          "text": [
            "P(−𝑡0.05 <𝑡<𝑡0.10) =  0.85\n"
          ],
          "name": "stdout"
        }
      ]
    },
    {
      "cell_type": "markdown",
      "metadata": {
        "id": "SK5ExcSaDBGB"
      },
      "source": [
        "Problem Statement 11: Two-tailed test for difference between two population means\r\n",
        "Is there evidence to conclude that the number of people travelling from Bangalore to\r\n",
        "Chennai is different from the number of people travelling from Bangalore to Hosur in\r\n",
        "a week, given the following:\r\n",
        "\r\n",
        "\r\n",
        "Population 1: Bangalore to Chennai \r\n",
        "\r\n",
        "n1 = 1200\r\n",
        "\r\n",
        "\r\n",
        "x1 = 452\r\n",
        "\r\n",
        "s1 = 212\r\n",
        "\r\n",
        "\r\n",
        "\r\n",
        "Population 2: Bangalore to Hosur \r\n",
        "\r\n",
        "n2 = 800\r\n",
        "\r\n",
        "\r\n",
        "x2 = 523\r\n",
        "\r\n",
        "\r\n",
        "s2 = 185\r\n"
      ]
    },
    {
      "cell_type": "code",
      "metadata": {
        "id": "NO_N1LzHc3W6"
      },
      "source": [
        ""
      ],
      "execution_count": 17,
      "outputs": []
    },
    {
      "cell_type": "code",
      "metadata": {
        "id": "qE3ERqVNKKlv"
      },
      "source": [
        "\r\n",
        "def z_stat_twomeans(x1,x2,se):\r\n",
        "    return (x1-x2)/se\r\n",
        "def sample_error_twomeans(s1,n1,s2,n2):\r\n",
        "    return (np.sqrt((s1**2/n1)+(s2**2/n2)))\r\n",
        "alpha=0.05\r\n",
        "\r\n",
        "z=z_stat_twomeans(x1=452,x2=523,se=sample_error_twomeans(s1=212,n1=1200,s2=185,n2=800))\r\n",
        "p=2*(1-st.norm.cdf(x=np.absolute(z)))"
      ],
      "execution_count": 3,
      "outputs": []
    },
    {
      "cell_type": "code",
      "metadata": {
        "colab": {
          "base_uri": "https://localhost:8080/"
        },
        "id": "kPUWjdrHKasS",
        "outputId": "b565bc42-2f98-4c0d-8751-2c330aeddbb8"
      },
      "source": [
        "p"
      ],
      "execution_count": 22,
      "outputs": [
        {
          "output_type": "execute_result",
          "data": {
            "text/plain": [
              "2.220446049250313e-15"
            ]
          },
          "metadata": {
            "tags": []
          },
          "execution_count": 22
        }
      ]
    },
    {
      "cell_type": "markdown",
      "metadata": {
        "id": "_hKAyVI7K9gE"
      },
      "source": [
        "p<0.05 thus we reject the null hypothesis"
      ]
    },
    {
      "cell_type": "code",
      "metadata": {
        "id": "sUe1BLGAK6mw"
      },
      "source": [
        ""
      ],
      "execution_count": 23,
      "outputs": []
    },
    {
      "cell_type": "markdown",
      "metadata": {
        "id": "JQk-1h7CLeVX"
      },
      "source": [
        "Problem 12"
      ]
    },
    {
      "cell_type": "markdown",
      "metadata": {
        "id": "q_t7nQX5UJkL"
      },
      "source": [
        "H0=Means are same"
      ]
    },
    {
      "cell_type": "code",
      "metadata": {
        "colab": {
          "base_uri": "https://localhost:8080/"
        },
        "id": "N8iZEDjsLajC",
        "outputId": "eafddd3f-97e1-4693-9325-42070d3767f2"
      },
      "source": [
        "z=z_stat_twomeans(x1=308,x2=254,se=sample_error_twomeans(s1=84,n1=100,s2=67,n2=100))\r\n",
        "p=2*(1-st.norm.cdf(x=np.absolute(z)))\r\n",
        "p\r\n"
      ],
      "execution_count": 4,
      "outputs": [
        {
          "output_type": "execute_result",
          "data": {
            "text/plain": [
              "5.015925257367826e-07"
            ]
          },
          "metadata": {
            "tags": []
          },
          "execution_count": 4
        }
      ]
    },
    {
      "cell_type": "markdown",
      "metadata": {
        "id": "pSiFa3zbUHN0"
      },
      "source": [
        "Null Hypothesis is rejected"
      ]
    },
    {
      "cell_type": "markdown",
      "metadata": {
        "id": "JJmEqi1wUXNF"
      },
      "source": [
        "Problem 14\r\n",
        "Problem Statement 14:\r\n",
        "The manufacturers of compact disk players want to test whether a small price\r\n",
        "reduction is enough to increase sales of their product. Is there evidence that the\r\n",
        "small price reduction is enough to increase sales of compact disk players?\r\n",
        "Population 1: Before reduction\r\n",
        "n1 = 15\r\n",
        "x1 = Rs. 6598 s1 = Rs. 844\r\n",
        "Population 2: After reduction n2 = 12\r\n",
        "x2 = RS. 6870\r\n",
        "s2 = Rs. 669\r\n"
      ]
    },
    {
      "cell_type": "code",
      "metadata": {
        "colab": {
          "base_uri": "https://localhost:8080/"
        },
        "id": "sHhYet1eTydt",
        "outputId": "665a6ed6-792d-4858-854f-dcd028ad532b"
      },
      "source": [
        "def z_stat_twomeans(x1,x2,se):\r\n",
        "    return (x1-x2)/se\r\n",
        "def sample_error_twomeans(s1,n1,s2,n2):\r\n",
        "    return (np.sqrt((s1**2/n1)+(s2**2/n2)))\r\n",
        "\r\n",
        "def est_std(n1,s1,n2,s2):\r\n",
        "    return np.sqrt(((n1*s1**2)+(n2*s2**2))/(n1+n2-2))\r\n",
        "\r\n",
        "alpha=0.05\r\n",
        "est_stand_dev=est_std(n1=15,s1=844,n2=12,s2=669)\r\n",
        "t=z_stat_twomeans(x1=6870,x2=6598,se=sample_error_twomeans(s1=est_stand_dev,s2=est_stand_dev,n1=15,n2=12))\r\n",
        "p=1-(st.t.cdf(x=t,df=15+12-1))\r\n",
        "if p<alpha:\r\n",
        "    print(\"Null Hypothesis is rejected(Average Sales after reduction increased)\")\r\n",
        "else: \r\n",
        "    print(\"Null Hypothesis is accepted(Average Sales before and after reduction is same or less)\")"
      ],
      "execution_count": 7,
      "outputs": [
        {
          "output_type": "stream",
          "text": [
            "Null Hypothesis is accepted(Average Sales before and after reduction is same or less)\n"
          ],
          "name": "stdout"
        }
      ]
    },
    {
      "cell_type": "markdown",
      "metadata": {
        "id": "qiNXUhD0VhXK"
      },
      "source": [
        "Problem 15"
      ]
    },
    {
      "cell_type": "code",
      "metadata": {
        "colab": {
          "base_uri": "https://localhost:8080/"
        },
        "id": "h4yJDSI9Uqoj",
        "outputId": "b44e80c9-f9cc-4bf7-9dbf-cedc9e62d20f"
      },
      "source": [
        "def z_test_pop_proportions(p1,p2,se):\r\n",
        "    return ((p1-p2)/se)\r\n",
        "def sample_error_pop_proportions(p1,p2,n1,n2):\r\n",
        "    return np.sqrt(((p1*(1-p1))/n1)+((p2*(1-p2))/n2))\r\n",
        "alpha=0.05\r\n",
        "p1=53/1000\r\n",
        "p2=43/100\r\n",
        "z=z_test_pop_proportions(p1=p1,p2=p2,se=sample_error_pop_proportions(p1=p1,p2=p2,n1=1000,n2=100))\r\n",
        "p=2*(1-st.norm.cdf(x=np.absolute(z)))\r\n",
        "if p<alpha:\r\n",
        "    print(\"Null Hypothesis is rejected(Banks share of the car loan market in 1980 and 1995 is not equal(P1!=P2))\")\r\n",
        "else:\r\n",
        "    print(\"Null Hypothesis is accepted(Banks share of the car loan market in 1980 and 1995 is equal(P1=P2))\")"
      ],
      "execution_count": 8,
      "outputs": [
        {
          "output_type": "stream",
          "text": [
            "Null Hypothesis is rejected(Banks share of the car loan market in 1980 and 1995 is not equal(P1!=P2))\n"
          ],
          "name": "stdout"
        }
      ]
    },
    {
      "cell_type": "code",
      "metadata": {
        "colab": {
          "base_uri": "https://localhost:8080/"
        },
        "id": "lqBiErH0VjZy",
        "outputId": "01da8404-84f3-4c37-ede0-03e2ffb2a75a"
      },
      "source": [
        "#Problem 16\r\n",
        "alpha=0.05\r\n",
        "se=sample_error_pop_proportions(p1=0.4,p2=0.2,n1=300,n2=140)\r\n",
        "z=((0.4-0.2-0.1)/se)\r\n",
        "p=st.norm.cdf(z)\r\n",
        "if p<alpha:\r\n",
        "    print(\"Null Hypothesis is rejected\")\r\n",
        "else:\r\n",
        "    print(\"Null Hypothesis is accepted\")"
      ],
      "execution_count": 11,
      "outputs": [
        {
          "output_type": "stream",
          "text": [
            "Null Hypothesis is accepted\n"
          ],
          "name": "stdout"
        }
      ]
    },
    {
      "cell_type": "markdown",
      "metadata": {
        "id": "ICRfDguxWIPq"
      },
      "source": [
        "Problem Statement 17:\r\n",
        "A die is thrown 132 times with the following results: Number turned up: 1, 2, 3, 4, 5, 6\r\n",
        "Frequency: 16, 20, 25, 14, 29, 28\r\n",
        "Is the die unbiased? Consider the degrees of freedom as 𝑝 −1"
      ]
    },
    {
      "cell_type": "markdown",
      "metadata": {
        "id": "Q2Yre3S3y5ex"
      },
      "source": [
        "H0- Die is unbiased\r\n",
        "\r\n",
        "\r\n",
        "H1- Die is not unbiased"
      ]
    },
    {
      "cell_type": "code",
      "metadata": {
        "colab": {
          "base_uri": "https://localhost:8080/"
        },
        "id": "yLiNQH9NV3D7",
        "outputId": "d953c85a-4f77-43e5-94aa-b987e41b4f07"
      },
      "source": [
        "observed=np.array([16,20,25,14,29,28])\r\n",
        "expected=np.array([22,22,22,22,22,22])\r\n",
        "chi,p=st.chisquare(f_obs=observed,f_exp=expected)\r\n",
        "df=5\r\n",
        "print(chi)\r\n",
        "if p<0.05:\r\n",
        "    print(\"Null Hypothesis is rejected\")\r\n",
        "else:\r\n",
        "    print(\"Null Hypothesis is accepted\")"
      ],
      "execution_count": 14,
      "outputs": [
        {
          "output_type": "stream",
          "text": [
            "9.0\n",
            "Null Hypothesis is accepted\n"
          ],
          "name": "stdout"
        }
      ]
    },
    {
      "cell_type": "markdown",
      "metadata": {
        "id": "Xrbix5AD0J8W"
      },
      "source": [
        "Problem Statement 18:\r\n",
        "\r\n",
        "In a certain town, there are about one million eligible voters. A simple random\r\n",
        "sample of 10,000 eligible voters was chosen to study the relationship between\r\n",
        "gender and participation in the last election. The results are summarized in the\r\n",
        "following 2X2 (read two by two) contingency table:\r\n"
      ]
    },
    {
      "cell_type": "markdown",
      "metadata": {
        "id": "2GzjSChL0wla"
      },
      "source": [
        "Ho- There is no relationship between Gender and Participation of election\r\n",
        "\r\n",
        "H1- There is relationship between Gender and Participation of election"
      ]
    },
    {
      "cell_type": "code",
      "metadata": {
        "colab": {
          "base_uri": "https://localhost:8080/"
        },
        "id": "1IsTtbsXy1m5",
        "outputId": "36ee6b95-213e-49a4-d1b3-c510279193f6"
      },
      "source": [
        "alpha=0.05\r\n",
        "inp=np.array([[2792,3591],[1486,2131]])\r\n",
        "chi2,p,dof,expected=st.chi2_contingency(inp)\r\n",
        "print(\"The expected values are :\",expected)\r\n",
        "print(\"The expected values are :\",expected)\r\n",
        "print(chi2)\r\n",
        "if p<alpha:\r\n",
        "    print(\"Gender and voting are dependent\")\r\n",
        "else:\r\n",
        "    print(\"Gender and voting is independent\")"
      ],
      "execution_count": 17,
      "outputs": [
        {
          "output_type": "stream",
          "text": [
            "The expected values are : [[2730.6474 3652.3526]\n",
            " [1547.3526 2069.6474]]\n",
            "The expected values are : [[2730.6474 3652.3526]\n",
            " [1547.3526 2069.6474]]\n",
            "6.552337973968181\n",
            "Gender and voting are dependent\n"
          ],
          "name": "stdout"
        }
      ]
    },
    {
      "cell_type": "markdown",
      "metadata": {
        "id": "Xpq79gdH5Xzw"
      },
      "source": [
        "Problem 19-"
      ]
    },
    {
      "cell_type": "code",
      "metadata": {
        "colab": {
          "base_uri": "https://localhost:8080/"
        },
        "id": "yCspzCia37ql",
        "outputId": "05a220d0-dcd1-434d-b6f4-a42ba30ec33f"
      },
      "source": [
        "\r\n",
        "alpha=0.05\r\n",
        "obs=[41,19,24,16]\r\n",
        "exp=[25,25,25,25]\r\n",
        "chi,p=st.chisquare(f_obs=obs,f_exp=exp)\r\n",
        "if p<alpha:\r\n",
        "    print(\"candidates are not equally popular\")\r\n",
        "else:\r\n",
        "    print(\"candidates are equally popular\")"
      ],
      "execution_count": 18,
      "outputs": [
        {
          "output_type": "stream",
          "text": [
            "candidates are not equally popular\n"
          ],
          "name": "stdout"
        }
      ]
    },
    {
      "cell_type": "markdown",
      "metadata": {
        "id": "g8nXIS2z50l4"
      },
      "source": [
        "Problem 20-"
      ]
    },
    {
      "cell_type": "code",
      "metadata": {
        "colab": {
          "base_uri": "https://localhost:8080/"
        },
        "id": "ONGkVfjA5m9l",
        "outputId": "a3dd0f3b-80fe-4380-dc2e-4dd573f9d4cf"
      },
      "source": [
        "alpha=0.05\r\n",
        "inp=np.array([[18,22,20],[2,28,40],[20,10,40]])\r\n",
        "chi2,p,dof,expected=st.chi2_contingency(inp)\r\n",
        "if p<alpha:\r\n",
        "    print(\"There is a significant relationship between age and photograph preference\")\r\n",
        "else:\r\n",
        "    print(\"There is no significant relationship between age and photograph preference\")"
      ],
      "execution_count": 19,
      "outputs": [
        {
          "output_type": "stream",
          "text": [
            "There is a significant relationship between age and photograph preference\n"
          ],
          "name": "stdout"
        }
      ]
    },
    {
      "cell_type": "markdown",
      "metadata": {
        "id": "fYxXgB_w7CRz"
      },
      "source": [
        "Problem 22-"
      ]
    },
    {
      "cell_type": "code",
      "metadata": {
        "colab": {
          "base_uri": "https://localhost:8080/"
        },
        "id": "V-csjLCH68h1",
        "outputId": "e1487f2d-c5d4-4987-fc31-34063bc98ad4"
      },
      "source": [
        "alpha=0.01\r\n",
        "inp=np.array([[12,32],[22,14],[9,6]])\r\n",
        "chi2,p,dof,expected=st.chi2_contingency(inp)\r\n",
        "if p<alpha:\r\n",
        "    print(\"There is a relationship between height and leadership qualities\")\r\n",
        "else:\r\n",
        "    print(\"There is no relationship between height and leadership qualities\")"
      ],
      "execution_count": 20,
      "outputs": [
        {
          "output_type": "stream",
          "text": [
            "There is a relationship between height and leadership qualities\n"
          ],
          "name": "stdout"
        }
      ]
    },
    {
      "cell_type": "code",
      "metadata": {
        "colab": {
          "base_uri": "https://localhost:8080/"
        },
        "id": "_ogp1orB7KEd",
        "outputId": "a27aed11-5763-400e-dadc-07d80a1af9b0"
      },
      "source": [
        "#Problem 23-\r\n",
        "\r\n",
        "\r\n",
        "alpha=0.05\r\n",
        "inp=np.array([[679,103,114],[63,10,20],[42,18,25]])\r\n",
        "chi2,p,dof,expected=st.chi2_contingency(inp)\r\n",
        "if p<alpha:\r\n",
        "    print(\"Marital status and employement status are dependent\")\r\n",
        "else:\r\n",
        "    print(\"Marital status and employement status are independent\")"
      ],
      "execution_count": 21,
      "outputs": [
        {
          "output_type": "stream",
          "text": [
            "Marital status and employement status are dependent\n"
          ],
          "name": "stdout"
        }
      ]
    },
    {
      "cell_type": "code",
      "metadata": {
        "id": "JfBREg5x7ZF8"
      },
      "source": [
        ""
      ],
      "execution_count": null,
      "outputs": []
    }
  ]
}