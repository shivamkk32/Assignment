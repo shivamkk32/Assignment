{
  "nbformat": 4,
  "nbformat_minor": 0,
  "metadata": {
    "colab": {
      "name": "Assignment3.ipynb",
      "provenance": []
    },
    "kernelspec": {
      "name": "python3",
      "display_name": "Python 3"
    }
  },
  "cells": [
    {
      "cell_type": "code",
      "metadata": {
        "id": "kmXfNKo2nRTh"
      },
      "source": [
        "def sum(x1,x2):\n",
        "  return x1+x2\n",
        "\n",
        "def subtract(x1,x2):\n",
        "  return x1-x2\n",
        "\n",
        "def multiply(x1,x2):\n",
        "  return x1*x2\n",
        "\n"
      ],
      "execution_count": 10,
      "outputs": []
    },
    {
      "cell_type": "code",
      "metadata": {
        "id": "KyM3BSWlnqln"
      },
      "source": [
        "def myreduce(operation,itObj):\n",
        "  first=itObj[0]\n",
        "  for i in itObj[1:]:\n",
        "    first=operation(first,i)\n",
        "  \n",
        "  return first\n",
        " "
      ],
      "execution_count": 11,
      "outputs": []
    },
    {
      "cell_type": "code",
      "metadata": {
        "colab": {
          "base_uri": "https://localhost:8080/"
        },
        "id": "BZlVKhc5pvYU",
        "outputId": "24a2cac4-699f-4000-f092-eea4a004e66c"
      },
      "source": [
        "print(myreduce(sum,[1,2,3,4,5]))"
      ],
      "execution_count": 12,
      "outputs": [
        {
          "output_type": "stream",
          "text": [
            "15\n"
          ],
          "name": "stdout"
        }
      ]
    },
    {
      "cell_type": "code",
      "metadata": {
        "id": "8TLH_k2sp5Ge"
      },
      "source": [
        "#Condition Method\n",
        "def isEven(x):\n",
        "  if x%2==0:\n",
        "    return True\n",
        "  else :\n",
        "    return False"
      ],
      "execution_count": 13,
      "outputs": []
    },
    {
      "cell_type": "code",
      "metadata": {
        "id": "59pYc1jvqvk8"
      },
      "source": [
        "#Implemented filter method\n",
        "def myfilter(sequence,func):\n",
        "  filtered=[]\n",
        "  for i in sequence:\n",
        "    if func(i):\n",
        "      filtered.append(i)\n",
        "\n",
        "  return filtered"
      ],
      "execution_count": 14,
      "outputs": []
    },
    {
      "cell_type": "code",
      "metadata": {
        "id": "MUdZ58Trqyrq"
      },
      "source": [
        "result=myfilter([1,2,3,4,5,6,7,8],isEven)"
      ],
      "execution_count": 15,
      "outputs": []
    },
    {
      "cell_type": "code",
      "metadata": {
        "colab": {
          "base_uri": "https://localhost:8080/"
        },
        "id": "aWKhcaM8q9yp",
        "outputId": "436c3543-86bc-4d86-a49d-c5546868895f"
      },
      "source": [
        "result"
      ],
      "execution_count": 16,
      "outputs": [
        {
          "output_type": "execute_result",
          "data": {
            "text/plain": [
              "[2, 4, 6, 8]"
            ]
          },
          "metadata": {
            "tags": []
          },
          "execution_count": 16
        }
      ]
    },
    {
      "cell_type": "code",
      "metadata": {
        "id": "bl9obsoQvsVR"
      },
      "source": [
        "\n"
      ],
      "execution_count": 26,
      "outputs": []
    },
    {
      "cell_type": "code",
      "metadata": {
        "colab": {
          "base_uri": "https://localhost:8080/"
        },
        "id": "96KI-cHUzsnp",
        "outputId": "aa65b1e9-d96e-431b-9be7-c73189fbf983"
      },
      "source": [
        "l1=[j*i for j in ['x','y','z'] for i in  range(1,5)]\n",
        "l1"
      ],
      "execution_count": 22,
      "outputs": [
        {
          "output_type": "execute_result",
          "data": {
            "text/plain": [
              "['x', 'xx', 'xxx', 'xxxx', 'y', 'yy', 'yyy', 'yyyy', 'z', 'zz', 'zzz', 'zzzz']"
            ]
          },
          "metadata": {
            "tags": []
          },
          "execution_count": 22
        }
      ]
    },
    {
      "cell_type": "code",
      "metadata": {
        "colab": {
          "base_uri": "https://localhost:8080/"
        },
        "id": "Z0-PmyrizGLo",
        "outputId": "7189df37-f045-447a-89ce-f957eed55abe"
      },
      "source": [
        "l2=[i*j for j in range(1,5) for i in  ['x','y','z']]\n",
        "l2"
      ],
      "execution_count": 23,
      "outputs": [
        {
          "output_type": "execute_result",
          "data": {
            "text/plain": [
              "['x', 'y', 'z', 'xx', 'yy', 'zz', 'xxx', 'yyy', 'zzz', 'xxxx', 'yyyy', 'zzzz']"
            ]
          },
          "metadata": {
            "tags": []
          },
          "execution_count": 23
        }
      ]
    },
    {
      "cell_type": "code",
      "metadata": {
        "colab": {
          "base_uri": "https://localhost:8080/"
        },
        "id": "48-VTrjszHIf",
        "outputId": "e85195fd-0843-48da-f8c9-ae023f6cfbe8"
      },
      "source": [
        "l3=list = [[x+y] for x in range(2,5) for y in range(3)]\n",
        "l3"
      ],
      "execution_count": 24,
      "outputs": [
        {
          "output_type": "execute_result",
          "data": {
            "text/plain": [
              "[[2], [3], [4], [3], [4], [5], [4], [5], [6]]"
            ]
          },
          "metadata": {
            "tags": []
          },
          "execution_count": 24
        }
      ]
    },
    {
      "cell_type": "code",
      "metadata": {
        "colab": {
          "base_uri": "https://localhost:8080/"
        },
        "id": "lYEzIl0c0lis",
        "outputId": "56138e2b-6af2-4d90-c492-cb50d2ac28f4"
      },
      "source": [
        "l4=[[i+j for i in range(2,5)] for j in range(3) ]\n",
        "l4\n",
        "\n"
      ],
      "execution_count": 25,
      "outputs": [
        {
          "output_type": "execute_result",
          "data": {
            "text/plain": [
              "[[2, 3, 4], [3, 4, 5], [4, 5, 6]]"
            ]
          },
          "metadata": {
            "tags": []
          },
          "execution_count": 25
        }
      ]
    },
    {
      "cell_type": "code",
      "metadata": {
        "colab": {
          "base_uri": "https://localhost:8080/"
        },
        "id": "f92rAHBL1Ac5",
        "outputId": "c8cd7164-92a1-48dc-9121-15c07ee4ba5c"
      },
      "source": [
        "l5=[(j,i) for i in range(1,4) for j in range(1,4)]\n",
        "l5"
      ],
      "execution_count": 26,
      "outputs": [
        {
          "output_type": "execute_result",
          "data": {
            "text/plain": [
              "[(1, 1), (2, 1), (3, 1), (1, 2), (2, 2), (3, 2), (1, 3), (2, 3), (3, 3)]"
            ]
          },
          "metadata": {
            "tags": []
          },
          "execution_count": 26
        }
      ]
    },
    {
      "cell_type": "code",
      "metadata": {
        "id": "tk9sSR3IcKLo"
      },
      "source": [
        ""
      ],
      "execution_count": null,
      "outputs": []
    }
  ]
}